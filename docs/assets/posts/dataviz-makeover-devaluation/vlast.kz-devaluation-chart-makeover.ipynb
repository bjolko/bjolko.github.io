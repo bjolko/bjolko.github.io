{
 "cells": [
  {
   "cell_type": "markdown",
   "metadata": {},
   "source": [
    "# Libraries"
   ]
  },
  {
   "cell_type": "code",
   "execution_count": 1,
   "metadata": {},
   "outputs": [
    {
     "name": "stderr",
     "output_type": "stream",
     "text": [
      "\n",
      "Attaching package: 'dplyr'\n",
      "\n",
      "\n",
      "The following objects are masked from 'package:stats':\n",
      "\n",
      "    filter, lag\n",
      "\n",
      "\n",
      "The following objects are masked from 'package:base':\n",
      "\n",
      "    intersect, setdiff, setequal, union\n",
      "\n",
      "\n",
      "\n",
      "Attaching package: 'lubridate'\n",
      "\n",
      "\n",
      "The following object is masked from 'package:base':\n",
      "\n",
      "    date\n",
      "\n",
      "\n"
     ]
    }
   ],
   "source": [
    "library(dplyr)\n",
    "library(lubridate)\n",
    "library(ggplot2)\n",
    "library(stringr)\n",
    "\n",
    "w = 12\n",
    "h = 5\n",
    "options(repr.plot.width = w, repr.plot.height = h) # Plot size"
   ]
  },
  {
   "cell_type": "markdown",
   "metadata": {},
   "source": [
    "# Data preparation"
   ]
  },
  {
   "cell_type": "code",
   "execution_count": 2,
   "metadata": {},
   "outputs": [
    {
     "data": {
      "text/html": [
       "<table>\n",
       "<caption>A data.frame: 6 × 3</caption>\n",
       "<thead>\n",
       "\t<tr><th></th><th scope=col>product</th><th scope=col>price</th><th scope=col>period</th></tr>\n",
       "\t<tr><th></th><th scope=col>&lt;chr&gt;</th><th scope=col>&lt;int&gt;</th><th scope=col>&lt;fct&gt;</th></tr>\n",
       "</thead>\n",
       "<tbody>\n",
       "\t<tr><th scope=row>1</th><td>potatoes</td><td> 65</td><td>before</td></tr>\n",
       "\t<tr><th scope=row>2</th><td>potatoes</td><td>159</td><td>after </td></tr>\n",
       "\t<tr><th scope=row>3</th><td>carrot  </td><td> 82</td><td>before</td></tr>\n",
       "\t<tr><th scope=row>4</th><td>carrot  </td><td>119</td><td>after </td></tr>\n",
       "\t<tr><th scope=row>5</th><td>cabbage </td><td> 64</td><td>before</td></tr>\n",
       "\t<tr><th scope=row>6</th><td>cabbage </td><td> 79</td><td>after </td></tr>\n",
       "</tbody>\n",
       "</table>\n"
      ],
      "text/latex": [
       "A data.frame: 6 × 3\n",
       "\\begin{tabular}{r|lll}\n",
       "  & product & price & period\\\\\n",
       "  & <chr> & <int> & <fct>\\\\\n",
       "\\hline\n",
       "\t1 & potatoes &  65 & before\\\\\n",
       "\t2 & potatoes & 159 & after \\\\\n",
       "\t3 & carrot   &  82 & before\\\\\n",
       "\t4 & carrot   & 119 & after \\\\\n",
       "\t5 & cabbage  &  64 & before\\\\\n",
       "\t6 & cabbage  &  79 & after \\\\\n",
       "\\end{tabular}\n"
      ],
      "text/markdown": [
       "\n",
       "A data.frame: 6 × 3\n",
       "\n",
       "| <!--/--> | product &lt;chr&gt; | price &lt;int&gt; | period &lt;fct&gt; |\n",
       "|---|---|---|---|\n",
       "| 1 | potatoes |  65 | before |\n",
       "| 2 | potatoes | 159 | after  |\n",
       "| 3 | carrot   |  82 | before |\n",
       "| 4 | carrot   | 119 | after  |\n",
       "| 5 | cabbage  |  64 | before |\n",
       "| 6 | cabbage  |  79 | after  |\n",
       "\n"
      ],
      "text/plain": [
       "  product  price period\n",
       "1 potatoes  65   before\n",
       "2 potatoes 159   after \n",
       "3 carrot    82   before\n",
       "4 carrot   119   after \n",
       "5 cabbage   64   before\n",
       "6 cabbage   79   after "
      ]
     },
     "metadata": {},
     "output_type": "display_data"
    }
   ],
   "source": [
    "df <- \n",
    "    data.table::fread('vlast_prices.csv', encoding = 'UTF-8') %>% \n",
    "    setNames(c('shop', 'product', 'translation', 'date', 'price')) %>% \n",
    "    filter(shop != 'Сары-Арка') %>% # Didn't use it as it has duplicated products and not precise prices\n",
    "    mutate(\n",
    "        date = ymd(`date`),\n",
    "        period = reorder(ifelse(`date` == '2014-02-12', 'before', 'after'), date)\n",
    "    ) %>% \n",
    "    select(-date, -shop, -product) %>% \n",
    "    rename(product = translation)\n",
    "\n",
    "df %>% head()"
   ]
  },
  {
   "cell_type": "code",
   "execution_count": 3,
   "metadata": {},
   "outputs": [
    {
     "data": {
      "text/html": [
       "<table>\n",
       "<caption>A data.frame: 6 × 4</caption>\n",
       "<thead>\n",
       "\t<tr><th></th><th scope=col>product</th><th scope=col>before</th><th scope=col>after</th><th scope=col>difference</th></tr>\n",
       "\t<tr><th></th><th scope=col>&lt;fct&gt;</th><th scope=col>&lt;int&gt;</th><th scope=col>&lt;int&gt;</th><th scope=col>&lt;dbl&gt;</th></tr>\n",
       "</thead>\n",
       "<tbody>\n",
       "\t<tr><th scope=row>1</th><td>butter      </td><td>265</td><td> 629</td><td>2.4</td></tr>\n",
       "\t<tr><th scope=row>2</th><td>cabbage     </td><td> 64</td><td>  79</td><td>1.2</td></tr>\n",
       "\t<tr><th scope=row>3</th><td>carrot      </td><td> 82</td><td> 119</td><td>1.5</td></tr>\n",
       "\t<tr><th scope=row>4</th><td>ground\n",
       "beef</td><td>999</td><td>2430</td><td>2.4</td></tr>\n",
       "\t<tr><th scope=row>5</th><td>oatmeal     </td><td> 99</td><td> 400</td><td>4.0</td></tr>\n",
       "\t<tr><th scope=row>6</th><td>onion       </td><td> 69</td><td>  79</td><td>1.1</td></tr>\n",
       "</tbody>\n",
       "</table>\n"
      ],
      "text/latex": [
       "A data.frame: 6 × 4\n",
       "\\begin{tabular}{r|llll}\n",
       "  & product & before & after & difference\\\\\n",
       "  & <fct> & <int> & <int> & <dbl>\\\\\n",
       "\\hline\n",
       "\t1 & butter       & 265 &  629 & 2.4\\\\\n",
       "\t2 & cabbage      &  64 &   79 & 1.2\\\\\n",
       "\t3 & carrot       &  82 &  119 & 1.5\\\\\n",
       "\t4 & ground\n",
       "beef & 999 & 2430 & 2.4\\\\\n",
       "\t5 & oatmeal      &  99 &  400 & 4.0\\\\\n",
       "\t6 & onion        &  69 &   79 & 1.1\\\\\n",
       "\\end{tabular}\n"
      ],
      "text/markdown": [
       "\n",
       "A data.frame: 6 × 4\n",
       "\n",
       "| <!--/--> | product &lt;fct&gt; | before &lt;int&gt; | after &lt;int&gt; | difference &lt;dbl&gt; |\n",
       "|---|---|---|---|---|\n",
       "| 1 | butter       | 265 |  629 | 2.4 |\n",
       "| 2 | cabbage      |  64 |   79 | 1.2 |\n",
       "| 3 | carrot       |  82 |  119 | 1.5 |\n",
       "| 4 | ground\n",
       "beef | 999 | 2430 | 2.4 |\n",
       "| 5 | oatmeal      |  99 |  400 | 4.0 |\n",
       "| 6 | onion        |  69 |   79 | 1.1 |\n",
       "\n"
      ],
      "text/plain": [
       "  product      before after difference\n",
       "1 butter       265     629  2.4       \n",
       "2 cabbage       64      79  1.2       \n",
       "3 carrot        82     119  1.5       \n",
       "4 ground\\nbeef 999    2430  2.4       \n",
       "5 oatmeal       99     400  4.0       \n",
       "6 onion         69      79  1.1       "
      ]
     },
     "metadata": {},
     "output_type": "display_data"
    }
   ],
   "source": [
    "df_difference <- \n",
    "    df %>% \n",
    "    tidyr::spread(period, price) %>% \n",
    "    mutate(\n",
    "        difference = round(after / before, 1),\n",
    "        product = str_replace(product, ' ', '\\n'),\n",
    "        product = reorder(product, -difference)\n",
    "    )\n",
    "\n",
    "df_difference %>% head()"
   ]
  },
  {
   "cell_type": "markdown",
   "metadata": {},
   "source": [
    "# Data visualization"
   ]
  },
  {
   "cell_type": "markdown",
   "metadata": {},
   "source": [
    "Cudos to Dr. Cédric Scherer for this great [presentation](https://www.cedricscherer.com/slides/OutlierConf2021_ggplot-wizardry.pdf)!"
   ]
  },
  {
   "cell_type": "code",
   "execution_count": 4,
   "metadata": {},
   "outputs": [
    {
     "data": {
      "image/png": "[encoded data removed]",
      "text/plain": [
       "plot without title"
      ]
     },
     "metadata": {
      "image/png": {
       "height": 300,
       "width": 720
      },
      "text/plain": {
       "height": 300,
       "width": 720
      }
     },
     "output_type": "display_data"
    }
   ],
   "source": [
    "df %>% \n",
    "    mutate(\n",
    "        period = ordered(period, levels = c('before', 'after')),\n",
    "        product = reorder(product, -price)\n",
    "    ) %>% \n",
    "    ggplot(aes(x = product, y = price, fill = period)) +\n",
    "    geom_bar(stat = 'identity', position = 'dodge') +\n",
    "    labs(\n",
    "        x = '',\n",
    "        y = 'Price, KZT',\n",
    "        fill = ''\n",
    "    ) +\n",
    "    scale_fill_manual(values = c('#b0bbc2', '#118fcf')) +\n",
    "    theme_bw() +\n",
    "    theme(\n",
    "        legend.position = 'top'\n",
    "    )"
   ]
  },
  {
   "cell_type": "code",
   "execution_count": 5,
   "metadata": {},
   "outputs": [],
   "source": [
    "ggsave('grouped_bar.png',  width = w, height = h)"
   ]
  },
  {
   "cell_type": "code",
   "execution_count": 6,
   "metadata": {},
   "outputs": [
    {
     "data": {
      "image/png": "[encoded data removed]",
      "text/plain": [
       "plot without title"
      ]
     },
     "metadata": {
      "image/png": {
       "height": 300,
       "width": 720
      },
      "text/plain": {
       "height": 300,
       "width": 720
      }
     },
     "output_type": "display_data"
    }
   ],
   "source": [
    "df_difference %>% \n",
    "    ggplot(aes(x = product, y = difference)) +\n",
    "    geom_bar(stat = 'identity', width = .7, fill = '#118fcf') +\n",
    "    geom_hline(aes(yintercept = 2.6), alpha = .5, size = 1, linetype = 5, col = '#2c3b3c') +\n",
    "    geom_text(aes(x = 1.15, y = 2.6, label = 'Devaluation'), vjust = -1, size = 6) +\n",
    "    theme_bw()"
   ]
  },
  {
   "cell_type": "code",
   "execution_count": 7,
   "metadata": {},
   "outputs": [],
   "source": [
    "ggsave('difference_bar.png',  width = w, height = h)"
   ]
  },
  {
   "cell_type": "code",
   "execution_count": 8,
   "metadata": {},
   "outputs": [
    {
     "data": {
      "image/png": "[encoded data removed]",
      "text/plain": [
       "plot without title"
      ]
     },
     "metadata": {
      "image/png": {
       "height": 300,
       "width": 720
      },
      "text/plain": {
       "height": 300,
       "width": 720
      }
     },
     "output_type": "display_data"
    }
   ],
   "source": [
    "df_difference %>% \n",
    "    ggplot(aes(x = product, y = difference)) +\n",
    "    geom_bar(stat = 'identity', width = .7, fill = '#19ade3') + # Bar chart\n",
    "\n",
    "    geom_hline(aes(yintercept = 2.6), alpha = .5, size = 1, linetype = 5, col = '#2c3b3c') + # Reference line, devaluation rate\n",
    "\n",
    "    geom_label(aes(x = 1.45, y = 2.6, label = 'Devaluatio'), vjust = -.3, size = 6.5, colour = NA, family = 'mono') + # Background for geom_text() to overlap bars\n",
    "    geom_text(aes(x = 1.45, y = 2.6, label = 'Devaluation'), vjust = -1, size = 6, family = 'mono') + # Legend for a reference line\n",
    "\n",
    "    geom_label(aes(x = product, y = difference, label = difference), vjust = 0, size = 11, colour = NA, family = 'mono') + # Background for geom_text() to overlap reference line\n",
    "    geom_text(aes(label = difference), vjust = -1, size = 6, family = 'mono') + # Text labels\n",
    "\n",
    "    scale_y_continuous(limits = c(0, 4.5)) + # Extended Y axis\n",
    "\n",
    "    labs(\n",
    "        title = 'How much food prices increased after devaluation? Comparison of 2014 and 2021',\n",
    "        x = '',\n",
    "        y = '',\n",
    "        caption = 'Source: Vlast.kz Media\\nhttps://vlast.kz/obsshestvo/44543-neuderzimye-kak-dorozali-socialno-znacimye-produkty.html'\n",
    "    ) + # Title, axis labels, caption\n",
    "\n",
    "    coord_cartesian(expand = F) + # Remove white space before the first bar for better alignment\n",
    "    theme( # Custom theme\n",
    "        plot.title.position = 'panel',\n",
    "        axis.ticks = element_blank(),\n",
    "        axis.text.y = element_blank(),\n",
    "        panel.background = element_blank(),\n",
    "        panel.grid = element_blank(),\n",
    "        plot.title = element_text(size = 20, family = 'sans'),\n",
    "        text = element_text(size = 13, family = 'mono'),     \n",
    "    )"
   ]
  },
  {
   "cell_type": "code",
   "execution_count": 9,
   "metadata": {},
   "outputs": [],
   "source": [
    "ggsave('difference_bar_updated.png',  width = w, height = h)"
   ]
  }
 ],
 "metadata": {
  "hide_input": false,
  "kernelspec": {
   "display_name": "R",
   "language": "R",
   "name": "ir"
  },
  "language_info": {
   "codemirror_mode": "r",
   "file_extension": ".r",
   "mimetype": "text/x-r-source",
   "name": "R",
   "pygments_lexer": "r",
   "version": "3.6.3"
  },
  "toc": {
   "base_numbering": 1,
   "nav_menu": {},
   "number_sections": true,
   "sideBar": true,
   "skip_h1_title": false,
   "title_cell": "Table of Contents",
   "title_sidebar": "Contents",
   "toc_cell": false,
   "toc_position": {},
   "toc_section_display": true,
   "toc_window_display": false
  }
 },
 "nbformat": 4,
 "nbformat_minor": 4
}
