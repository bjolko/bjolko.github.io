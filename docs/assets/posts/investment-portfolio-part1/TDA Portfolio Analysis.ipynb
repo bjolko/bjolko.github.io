{
 "cells": [
  {
   "cell_type": "code",
   "execution_count": null,
   "metadata": {},
   "outputs": [],
   "source": [
    "# pip install td-ameritrade-python-api"
   ]
  },
  {
   "cell_type": "code",
   "execution_count": null,
   "metadata": {},
   "outputs": [],
   "source": [
    "import pandas as pd\n",
    "import numpy as np\n",
    "\n",
    "from td.client import TDClient\n",
    "import yfinance as yf\n",
    "\n",
    "import datetime\n",
    "\n",
    "pd.set_option('display.float_format', '{:.2f}'.format)"
   ]
  },
  {
   "cell_type": "markdown",
   "metadata": {},
   "source": [
    "# Connect to TDA"
   ]
  },
  {
   "cell_type": "code",
   "execution_count": null,
   "metadata": {},
   "outputs": [],
   "source": [
    "CONSUMER_KEY = # YOUR KEY\n",
    "REDIRECT_URI = # YOUR REDIRECT URL\n",
    "TD_ACCOUNT = # YOUR TDA ACCOUNT ID\n",
    "\n",
    "# Create a new session, credentials path is optional.\n",
    "TDSession = TDClient(\n",
    "    client_id=CONSUMER_KEY,\n",
    "    redirect_uri=REDIRECT_URI,\n",
    "    credentials_path='YOUR_PATH.json'\n",
    ")\n",
    "\n",
    "# Login to the session\n",
    "TDSession.login()"
   ]
  },
  {
   "cell_type": "markdown",
   "metadata": {},
   "source": [
    "# TDA Portfolio"
   ]
  },
  {
   "cell_type": "code",
   "execution_count": null,
   "metadata": {},
   "outputs": [],
   "source": [
    "positions = TDSession.get_accounts(account=TD_ACCOUNT, fields=['positions'])\n",
    "df_positions = pd.DataFrame(positions['securitiesAccount']['positions'])\n",
    "df_positions.head()"
   ]
  },
  {
   "cell_type": "code",
   "execution_count": null,
   "metadata": {},
   "outputs": [],
   "source": [
    "df_portfolio = (\n",
    "    pd.concat([df_positions.drop('instrument', axis=1), df_positions['instrument'].apply(pd.Series)], axis=1)\n",
    "    .loc[lambda x: x['assetType'] == 'EQUITY']\n",
    "    [['symbol', 'marketValue']]\n",
    ")\n",
    "\n",
    "portfolio_market_value = df_portfolio.marketValue.sum()\n",
    "\n",
    "df_portfolio"
   ]
  },
  {
   "cell_type": "code",
   "execution_count": null,
   "metadata": {},
   "outputs": [],
   "source": [
    "print(f\"Total value: ${df_portfolio.marketValue.sum():,.2f}\")"
   ]
  },
  {
   "cell_type": "markdown",
   "metadata": {},
   "source": [
    "# S&P 500 only portfolio"
   ]
  },
  {
   "cell_type": "markdown",
   "metadata": {},
   "source": [
    "## TDA Transactions"
   ]
  },
  {
   "cell_type": "markdown",
   "metadata": {},
   "source": [
    "`BUY` transactions for quotes in current portfolio"
   ]
  },
  {
   "cell_type": "code",
   "execution_count": null,
   "metadata": {},
   "outputs": [],
   "source": [
    "transactions = TDSession.get_transactions(account=TD_ACCOUNT, transaction_type='BUY_ONLY')"
   ]
  },
  {
   "cell_type": "code",
   "execution_count": null,
   "metadata": {},
   "outputs": [],
   "source": [
    "df_buys = (\n",
    "    pd.json_normalize(transactions)\n",
    "    .loc[lambda x: x['transactionItem.instrument.symbol'].isin(df_portfolio.symbol)]\n",
    "    .rename(columns={\n",
    "        'netAmount': 'amount',\n",
    "        'transactionDate': 'dt'\n",
    "    })\n",
    "    [['dt', 'amount']]\n",
    "    .assign(\n",
    "        dt = lambda x: pd.to_datetime(x['dt']).dt.date,\n",
    "        amount = lambda x: -x['amount']\n",
    "    )\n",
    "    .groupby(['dt'], as_index=False)\n",
    "    ['amount']\n",
    "    .sum()\n",
    ")\n",
    "\n",
    "df_buys"
   ]
  },
  {
   "cell_type": "markdown",
   "metadata": {},
   "source": [
    "## S&P 500 price history"
   ]
  },
  {
   "cell_type": "markdown",
   "metadata": {},
   "source": [
    "S&P 500 price history at the same dates as in transactions in previous step"
   ]
  },
  {
   "cell_type": "code",
   "execution_count": null,
   "metadata": {},
   "outputs": [],
   "source": [
    "sp500_etf = 'VOO'\n",
    "\n",
    "start = df_buys['dt'].min()\n",
    "end = df_buys['dt'].max() + datetime.timedelta(days=1) # Include the last day\n",
    "print(start, end)"
   ]
  },
  {
   "cell_type": "code",
   "execution_count": null,
   "metadata": {},
   "outputs": [],
   "source": [
    "df_sp500 = yf.download(sp500_etf, \n",
    "                      start=start, \n",
    "                      end=end, \n",
    "                      progress=False)\n",
    "df_sp500.head()"
   ]
  },
  {
   "cell_type": "code",
   "execution_count": null,
   "metadata": {},
   "outputs": [],
   "source": [
    "df_sp500_clean = (\n",
    "    df_sp500\n",
    "    .reset_index()\n",
    "    .rename(columns={\n",
    "        'Date': 'dt',\n",
    "        'Close': 'sp500_price'\n",
    "    })\n",
    "    [['dt', 'sp500_price']]\n",
    "    .assign(\n",
    "        dt = lambda x: pd.to_datetime(x['dt']).dt.date\n",
    "    )\n",
    ")\n",
    "\n",
    "df_sp500_clean.head()"
   ]
  },
  {
   "cell_type": "markdown",
   "metadata": {},
   "source": [
    "Current S&P 500 price"
   ]
  },
  {
   "cell_type": "code",
   "execution_count": null,
   "metadata": {},
   "outputs": [],
   "source": [
    "df_buys_w_sp500 = (\n",
    "    df_buys\n",
    "    .merge(df_sp500_clean, how='left', on='dt')\n",
    "    .assign(\n",
    "        sp500_cnt = lambda x: x['amount'] / x['sp500_price']\n",
    "    )\n",
    ")\n",
    "\n",
    "df_buys_w_sp500"
   ]
  },
  {
   "cell_type": "code",
   "execution_count": null,
   "metadata": {},
   "outputs": [],
   "source": [
    "sp500_current = yf.Ticker(sp500_etf).history(period='1d')['Close'][0]\n",
    "sp500_market_value = df_buys_w_sp500.sp500_cnt.sum() * sp500_current\n",
    "\n",
    "print(f'Current {sp500_etf} price is ${sp500_current}')"
   ]
  },
  {
   "cell_type": "markdown",
   "metadata": {},
   "source": [
    "# Compare 2 portfolios"
   ]
  },
  {
   "cell_type": "code",
   "execution_count": null,
   "metadata": {},
   "outputs": [],
   "source": [
    "def portfolio_summary(name, open_balance, market_value):\n",
    "    print(f\"{name}\\n\")\n",
    "    print(f\"Open Balance: ${open_balance:,.2f}\")\n",
    "    print(f\"Market value: ${market_value:,.2f}\")\n",
    "    print(f\"Profit: ${market_value - open_balance:,.2f} ({(market_value - open_balance) / open_balance:,.2%})\")\n",
    "\n",
    "open_bal = df_buys_w_sp500.amount.sum()"
   ]
  },
  {
   "cell_type": "code",
   "execution_count": null,
   "metadata": {},
   "outputs": [],
   "source": [
    "portfolio_summary('S&P 500 Portfolio only', open_bal, sp500_market_value)"
   ]
  },
  {
   "cell_type": "code",
   "execution_count": null,
   "metadata": {},
   "outputs": [],
   "source": [
    "portfolio_summary('Current Portfolio', open_bal, portfolio_market_value)"
   ]
  }
 ],
 "metadata": {
  "hide_input": false,
  "kernelspec": {
   "display_name": "Python 3",
   "language": "python",
   "name": "python3"
  },
  "language_info": {
   "codemirror_mode": {
    "name": "ipython",
    "version": 3
   },
   "file_extension": ".py",
   "mimetype": "text/x-python",
   "name": "python",
   "nbconvert_exporter": "python",
   "pygments_lexer": "ipython3",
   "version": "3.7.4"
  },
  "toc": {
   "base_numbering": 1,
   "nav_menu": {},
   "number_sections": true,
   "sideBar": true,
   "skip_h1_title": false,
   "title_cell": "Table of Contents",
   "title_sidebar": "Contents",
   "toc_cell": false,
   "toc_position": {},
   "toc_section_display": true,
   "toc_window_display": true
  }
 },
 "nbformat": 4,
 "nbformat_minor": 4
}
