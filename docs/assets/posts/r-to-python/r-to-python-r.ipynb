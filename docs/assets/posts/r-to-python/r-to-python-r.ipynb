{
 "cells": [
  {
   "cell_type": "code",
   "execution_count": 1,
   "metadata": {},
   "outputs": [
    {
     "name": "stderr",
     "output_type": "stream",
     "text": [
      "\n",
      "Attaching package: 'dplyr'\n",
      "\n",
      "\n",
      "The following objects are masked from 'package:stats':\n",
      "\n",
      "    filter, lag\n",
      "\n",
      "\n",
      "The following objects are masked from 'package:base':\n",
      "\n",
      "    intersect, setdiff, setequal, union\n",
      "\n",
      "\n"
     ]
    }
   ],
   "source": [
    "library(dplyr)"
   ]
  },
  {
   "cell_type": "markdown",
   "metadata": {},
   "source": [
    "# Reading files"
   ]
  },
  {
   "cell_type": "code",
   "execution_count": 2,
   "metadata": {},
   "outputs": [
    {
     "name": "stderr",
     "output_type": "stream",
     "text": [
      "Parsed with column specification:\n",
      "cols(\n",
      "  Store = \u001b[32mcol_double()\u001b[39m,\n",
      "  Date = \u001b[31mcol_character()\u001b[39m,\n",
      "  Weekly_Sales = \u001b[32mcol_double()\u001b[39m,\n",
      "  Holiday_Flag = \u001b[32mcol_double()\u001b[39m,\n",
      "  Temperature = \u001b[32mcol_double()\u001b[39m,\n",
      "  Fuel_Price = \u001b[32mcol_double()\u001b[39m,\n",
      "  CPI = \u001b[32mcol_double()\u001b[39m,\n",
      "  Unemployment = \u001b[32mcol_double()\u001b[39m\n",
      ")\n",
      "\n"
     ]
    }
   ],
   "source": [
    "df <- readr::read_csv('Walmart_Store_sales.csv')"
   ]
  },
  {
   "cell_type": "markdown",
   "metadata": {},
   "source": [
    "# Data overview"
   ]
  },
  {
   "cell_type": "code",
   "execution_count": 3,
   "metadata": {},
   "outputs": [
    {
     "data": {
      "text/html": [
       "<table>\n",
       "<caption>A tibble: 6 × 8</caption>\n",
       "<thead>\n",
       "\t<tr><th scope=col>Store</th><th scope=col>Date</th><th scope=col>Weekly_Sales</th><th scope=col>Holiday_Flag</th><th scope=col>Temperature</th><th scope=col>Fuel_Price</th><th scope=col>CPI</th><th scope=col>Unemployment</th></tr>\n",
       "\t<tr><th scope=col>&lt;dbl&gt;</th><th scope=col>&lt;chr&gt;</th><th scope=col>&lt;dbl&gt;</th><th scope=col>&lt;dbl&gt;</th><th scope=col>&lt;dbl&gt;</th><th scope=col>&lt;dbl&gt;</th><th scope=col>&lt;dbl&gt;</th><th scope=col>&lt;dbl&gt;</th></tr>\n",
       "</thead>\n",
       "<tbody>\n",
       "\t<tr><td>1</td><td>05-02-2010</td><td>1643691</td><td>0</td><td>42.31</td><td>2.572</td><td>211.0964</td><td>8.106</td></tr>\n",
       "\t<tr><td>1</td><td>12-02-2010</td><td>1641957</td><td>1</td><td>38.51</td><td>2.548</td><td>211.2422</td><td>8.106</td></tr>\n",
       "\t<tr><td>1</td><td>19-02-2010</td><td>1611968</td><td>0</td><td>39.93</td><td>2.514</td><td>211.2891</td><td>8.106</td></tr>\n",
       "\t<tr><td>1</td><td>26-02-2010</td><td>1409728</td><td>0</td><td>46.63</td><td>2.561</td><td>211.3196</td><td>8.106</td></tr>\n",
       "\t<tr><td>1</td><td>05-03-2010</td><td>1554807</td><td>0</td><td>46.50</td><td>2.625</td><td>211.3501</td><td>8.106</td></tr>\n",
       "\t<tr><td>1</td><td>12-03-2010</td><td>1439542</td><td>0</td><td>57.79</td><td>2.667</td><td>211.3806</td><td>8.106</td></tr>\n",
       "</tbody>\n",
       "</table>\n"
      ],
      "text/latex": [
       "A tibble: 6 × 8\n",
       "\\begin{tabular}{llllllll}\n",
       " Store & Date & Weekly\\_Sales & Holiday\\_Flag & Temperature & Fuel\\_Price & CPI & Unemployment\\\\\n",
       " <dbl> & <chr> & <dbl> & <dbl> & <dbl> & <dbl> & <dbl> & <dbl>\\\\\n",
       "\\hline\n",
       "\t 1 & 05-02-2010 & 1643691 & 0 & 42.31 & 2.572 & 211.0964 & 8.106\\\\\n",
       "\t 1 & 12-02-2010 & 1641957 & 1 & 38.51 & 2.548 & 211.2422 & 8.106\\\\\n",
       "\t 1 & 19-02-2010 & 1611968 & 0 & 39.93 & 2.514 & 211.2891 & 8.106\\\\\n",
       "\t 1 & 26-02-2010 & 1409728 & 0 & 46.63 & 2.561 & 211.3196 & 8.106\\\\\n",
       "\t 1 & 05-03-2010 & 1554807 & 0 & 46.50 & 2.625 & 211.3501 & 8.106\\\\\n",
       "\t 1 & 12-03-2010 & 1439542 & 0 & 57.79 & 2.667 & 211.3806 & 8.106\\\\\n",
       "\\end{tabular}\n"
      ],
      "text/markdown": [
       "\n",
       "A tibble: 6 × 8\n",
       "\n",
       "| Store &lt;dbl&gt; | Date &lt;chr&gt; | Weekly_Sales &lt;dbl&gt; | Holiday_Flag &lt;dbl&gt; | Temperature &lt;dbl&gt; | Fuel_Price &lt;dbl&gt; | CPI &lt;dbl&gt; | Unemployment &lt;dbl&gt; |\n",
       "|---|---|---|---|---|---|---|---|\n",
       "| 1 | 05-02-2010 | 1643691 | 0 | 42.31 | 2.572 | 211.0964 | 8.106 |\n",
       "| 1 | 12-02-2010 | 1641957 | 1 | 38.51 | 2.548 | 211.2422 | 8.106 |\n",
       "| 1 | 19-02-2010 | 1611968 | 0 | 39.93 | 2.514 | 211.2891 | 8.106 |\n",
       "| 1 | 26-02-2010 | 1409728 | 0 | 46.63 | 2.561 | 211.3196 | 8.106 |\n",
       "| 1 | 05-03-2010 | 1554807 | 0 | 46.50 | 2.625 | 211.3501 | 8.106 |\n",
       "| 1 | 12-03-2010 | 1439542 | 0 | 57.79 | 2.667 | 211.3806 | 8.106 |\n",
       "\n"
      ],
      "text/plain": [
       "  Store Date       Weekly_Sales Holiday_Flag Temperature Fuel_Price CPI     \n",
       "1 1     05-02-2010 1643691      0            42.31       2.572      211.0964\n",
       "2 1     12-02-2010 1641957      1            38.51       2.548      211.2422\n",
       "3 1     19-02-2010 1611968      0            39.93       2.514      211.2891\n",
       "4 1     26-02-2010 1409728      0            46.63       2.561      211.3196\n",
       "5 1     05-03-2010 1554807      0            46.50       2.625      211.3501\n",
       "6 1     12-03-2010 1439542      0            57.79       2.667      211.3806\n",
       "  Unemployment\n",
       "1 8.106       \n",
       "2 8.106       \n",
       "3 8.106       \n",
       "4 8.106       \n",
       "5 8.106       \n",
       "6 8.106       "
      ]
     },
     "metadata": {},
     "output_type": "display_data"
    }
   ],
   "source": [
    "head(df)"
   ]
  },
  {
   "cell_type": "code",
   "execution_count": 4,
   "metadata": {},
   "outputs": [
    {
     "name": "stdout",
     "output_type": "stream",
     "text": [
      "Rows: 6,435\n",
      "Columns: 8\n",
      "$ Store        \u001b[3m\u001b[90m<dbl>\u001b[39m\u001b[23m 1, 1, 1, 1, 1, 1, 1, 1, 1, 1, 1, 1, 1, 1, 1, 1, 1, 1, ...\n",
      "$ Date         \u001b[3m\u001b[90m<chr>\u001b[39m\u001b[23m \"05-02-2010\", \"12-02-2010\", \"19-02-2010\", \"26-02-2010\"...\n",
      "$ Weekly_Sales \u001b[3m\u001b[90m<dbl>\u001b[39m\u001b[23m 1643691, 1641957, 1611968, 1409728, 1554807, 1439542, ...\n",
      "$ Holiday_Flag \u001b[3m\u001b[90m<dbl>\u001b[39m\u001b[23m 0, 1, 0, 0, 0, 0, 0, 0, 0, 0, 0, 0, 0, 0, 0, 0, 0, 0, ...\n",
      "$ Temperature  \u001b[3m\u001b[90m<dbl>\u001b[39m\u001b[23m 42.31, 38.51, 39.93, 46.63, 46.50, 57.79, 54.58, 51.45...\n",
      "$ Fuel_Price   \u001b[3m\u001b[90m<dbl>\u001b[39m\u001b[23m 2.572, 2.548, 2.514, 2.561, 2.625, 2.667, 2.720, 2.732...\n",
      "$ CPI          \u001b[3m\u001b[90m<dbl>\u001b[39m\u001b[23m 211.0964, 211.2422, 211.2891, 211.3196, 211.3501, 211....\n",
      "$ Unemployment \u001b[3m\u001b[90m<dbl>\u001b[39m\u001b[23m 8.106, 8.106, 8.106, 8.106, 8.106, 8.106, 8.106, 8.106...\n"
     ]
    }
   ],
   "source": [
    "glimpse(df)"
   ]
  },
  {
   "cell_type": "markdown",
   "metadata": {},
   "source": [
    "# Data manipulation"
   ]
  },
  {
   "cell_type": "markdown",
   "metadata": {},
   "source": [
    "## Select columns"
   ]
  },
  {
   "cell_type": "code",
   "execution_count": 5,
   "metadata": {},
   "outputs": [
    {
     "data": {
      "text/html": [
       "<table>\n",
       "<caption>A tibble: 6 × 3</caption>\n",
       "<thead>\n",
       "\t<tr><th scope=col>Store</th><th scope=col>Date</th><th scope=col>Weekly_Sales</th></tr>\n",
       "\t<tr><th scope=col>&lt;dbl&gt;</th><th scope=col>&lt;chr&gt;</th><th scope=col>&lt;dbl&gt;</th></tr>\n",
       "</thead>\n",
       "<tbody>\n",
       "\t<tr><td>1</td><td>05-02-2010</td><td>1643691</td></tr>\n",
       "\t<tr><td>1</td><td>12-02-2010</td><td>1641957</td></tr>\n",
       "\t<tr><td>1</td><td>19-02-2010</td><td>1611968</td></tr>\n",
       "\t<tr><td>1</td><td>26-02-2010</td><td>1409728</td></tr>\n",
       "\t<tr><td>1</td><td>05-03-2010</td><td>1554807</td></tr>\n",
       "\t<tr><td>1</td><td>12-03-2010</td><td>1439542</td></tr>\n",
       "</tbody>\n",
       "</table>\n"
      ],
      "text/latex": [
       "A tibble: 6 × 3\n",
       "\\begin{tabular}{lll}\n",
       " Store & Date & Weekly\\_Sales\\\\\n",
       " <dbl> & <chr> & <dbl>\\\\\n",
       "\\hline\n",
       "\t 1 & 05-02-2010 & 1643691\\\\\n",
       "\t 1 & 12-02-2010 & 1641957\\\\\n",
       "\t 1 & 19-02-2010 & 1611968\\\\\n",
       "\t 1 & 26-02-2010 & 1409728\\\\\n",
       "\t 1 & 05-03-2010 & 1554807\\\\\n",
       "\t 1 & 12-03-2010 & 1439542\\\\\n",
       "\\end{tabular}\n"
      ],
      "text/markdown": [
       "\n",
       "A tibble: 6 × 3\n",
       "\n",
       "| Store &lt;dbl&gt; | Date &lt;chr&gt; | Weekly_Sales &lt;dbl&gt; |\n",
       "|---|---|---|\n",
       "| 1 | 05-02-2010 | 1643691 |\n",
       "| 1 | 12-02-2010 | 1641957 |\n",
       "| 1 | 19-02-2010 | 1611968 |\n",
       "| 1 | 26-02-2010 | 1409728 |\n",
       "| 1 | 05-03-2010 | 1554807 |\n",
       "| 1 | 12-03-2010 | 1439542 |\n",
       "\n"
      ],
      "text/plain": [
       "  Store Date       Weekly_Sales\n",
       "1 1     05-02-2010 1643691     \n",
       "2 1     12-02-2010 1641957     \n",
       "3 1     19-02-2010 1611968     \n",
       "4 1     26-02-2010 1409728     \n",
       "5 1     05-03-2010 1554807     \n",
       "6 1     12-03-2010 1439542     "
      ]
     },
     "metadata": {},
     "output_type": "display_data"
    }
   ],
   "source": [
    "select(df, Store, Date, Weekly_Sales) %>% head"
   ]
  },
  {
   "cell_type": "markdown",
   "metadata": {},
   "source": [
    "## Filter rows"
   ]
  },
  {
   "cell_type": "code",
   "execution_count": 6,
   "metadata": {},
   "outputs": [
    {
     "data": {
      "text/html": [
       "<table>\n",
       "<caption>A tibble: 6 × 8</caption>\n",
       "<thead>\n",
       "\t<tr><th scope=col>Store</th><th scope=col>Date</th><th scope=col>Weekly_Sales</th><th scope=col>Holiday_Flag</th><th scope=col>Temperature</th><th scope=col>Fuel_Price</th><th scope=col>CPI</th><th scope=col>Unemployment</th></tr>\n",
       "\t<tr><th scope=col>&lt;dbl&gt;</th><th scope=col>&lt;chr&gt;</th><th scope=col>&lt;dbl&gt;</th><th scope=col>&lt;dbl&gt;</th><th scope=col>&lt;dbl&gt;</th><th scope=col>&lt;dbl&gt;</th><th scope=col>&lt;dbl&gt;</th><th scope=col>&lt;dbl&gt;</th></tr>\n",
       "</thead>\n",
       "<tbody>\n",
       "\t<tr><td>1</td><td>05-02-2010</td><td>1643691</td><td>0</td><td>42.31</td><td>2.572</td><td>211.0964</td><td>8.106</td></tr>\n",
       "\t<tr><td>1</td><td>12-02-2010</td><td>1641957</td><td>1</td><td>38.51</td><td>2.548</td><td>211.2422</td><td>8.106</td></tr>\n",
       "\t<tr><td>1</td><td>19-02-2010</td><td>1611968</td><td>0</td><td>39.93</td><td>2.514</td><td>211.2891</td><td>8.106</td></tr>\n",
       "\t<tr><td>1</td><td>26-02-2010</td><td>1409728</td><td>0</td><td>46.63</td><td>2.561</td><td>211.3196</td><td>8.106</td></tr>\n",
       "\t<tr><td>1</td><td>05-03-2010</td><td>1554807</td><td>0</td><td>46.50</td><td>2.625</td><td>211.3501</td><td>8.106</td></tr>\n",
       "\t<tr><td>1</td><td>12-03-2010</td><td>1439542</td><td>0</td><td>57.79</td><td>2.667</td><td>211.3806</td><td>8.106</td></tr>\n",
       "</tbody>\n",
       "</table>\n"
      ],
      "text/latex": [
       "A tibble: 6 × 8\n",
       "\\begin{tabular}{llllllll}\n",
       " Store & Date & Weekly\\_Sales & Holiday\\_Flag & Temperature & Fuel\\_Price & CPI & Unemployment\\\\\n",
       " <dbl> & <chr> & <dbl> & <dbl> & <dbl> & <dbl> & <dbl> & <dbl>\\\\\n",
       "\\hline\n",
       "\t 1 & 05-02-2010 & 1643691 & 0 & 42.31 & 2.572 & 211.0964 & 8.106\\\\\n",
       "\t 1 & 12-02-2010 & 1641957 & 1 & 38.51 & 2.548 & 211.2422 & 8.106\\\\\n",
       "\t 1 & 19-02-2010 & 1611968 & 0 & 39.93 & 2.514 & 211.2891 & 8.106\\\\\n",
       "\t 1 & 26-02-2010 & 1409728 & 0 & 46.63 & 2.561 & 211.3196 & 8.106\\\\\n",
       "\t 1 & 05-03-2010 & 1554807 & 0 & 46.50 & 2.625 & 211.3501 & 8.106\\\\\n",
       "\t 1 & 12-03-2010 & 1439542 & 0 & 57.79 & 2.667 & 211.3806 & 8.106\\\\\n",
       "\\end{tabular}\n"
      ],
      "text/markdown": [
       "\n",
       "A tibble: 6 × 8\n",
       "\n",
       "| Store &lt;dbl&gt; | Date &lt;chr&gt; | Weekly_Sales &lt;dbl&gt; | Holiday_Flag &lt;dbl&gt; | Temperature &lt;dbl&gt; | Fuel_Price &lt;dbl&gt; | CPI &lt;dbl&gt; | Unemployment &lt;dbl&gt; |\n",
       "|---|---|---|---|---|---|---|---|\n",
       "| 1 | 05-02-2010 | 1643691 | 0 | 42.31 | 2.572 | 211.0964 | 8.106 |\n",
       "| 1 | 12-02-2010 | 1641957 | 1 | 38.51 | 2.548 | 211.2422 | 8.106 |\n",
       "| 1 | 19-02-2010 | 1611968 | 0 | 39.93 | 2.514 | 211.2891 | 8.106 |\n",
       "| 1 | 26-02-2010 | 1409728 | 0 | 46.63 | 2.561 | 211.3196 | 8.106 |\n",
       "| 1 | 05-03-2010 | 1554807 | 0 | 46.50 | 2.625 | 211.3501 | 8.106 |\n",
       "| 1 | 12-03-2010 | 1439542 | 0 | 57.79 | 2.667 | 211.3806 | 8.106 |\n",
       "\n"
      ],
      "text/plain": [
       "  Store Date       Weekly_Sales Holiday_Flag Temperature Fuel_Price CPI     \n",
       "1 1     05-02-2010 1643691      0            42.31       2.572      211.0964\n",
       "2 1     12-02-2010 1641957      1            38.51       2.548      211.2422\n",
       "3 1     19-02-2010 1611968      0            39.93       2.514      211.2891\n",
       "4 1     26-02-2010 1409728      0            46.63       2.561      211.3196\n",
       "5 1     05-03-2010 1554807      0            46.50       2.625      211.3501\n",
       "6 1     12-03-2010 1439542      0            57.79       2.667      211.3806\n",
       "  Unemployment\n",
       "1 8.106       \n",
       "2 8.106       \n",
       "3 8.106       \n",
       "4 8.106       \n",
       "5 8.106       \n",
       "6 8.106       "
      ]
     },
     "metadata": {},
     "output_type": "display_data"
    }
   ],
   "source": [
    "filter(df, Store == 1) %>% head"
   ]
  },
  {
   "cell_type": "markdown",
   "metadata": {},
   "source": [
    "## Sort rows"
   ]
  },
  {
   "cell_type": "code",
   "execution_count": 7,
   "metadata": {},
   "outputs": [
    {
     "data": {
      "text/html": [
       "<table>\n",
       "<caption>A tibble: 6 × 8</caption>\n",
       "<thead>\n",
       "\t<tr><th scope=col>Store</th><th scope=col>Date</th><th scope=col>Weekly_Sales</th><th scope=col>Holiday_Flag</th><th scope=col>Temperature</th><th scope=col>Fuel_Price</th><th scope=col>CPI</th><th scope=col>Unemployment</th></tr>\n",
       "\t<tr><th scope=col>&lt;dbl&gt;</th><th scope=col>&lt;chr&gt;</th><th scope=col>&lt;dbl&gt;</th><th scope=col>&lt;dbl&gt;</th><th scope=col>&lt;dbl&gt;</th><th scope=col>&lt;dbl&gt;</th><th scope=col>&lt;dbl&gt;</th><th scope=col>&lt;dbl&gt;</th></tr>\n",
       "</thead>\n",
       "<tbody>\n",
       "\t<tr><td>14</td><td>24-12-2010</td><td>3818686</td><td>0</td><td>30.59</td><td>3.141</td><td>182.5446</td><td>8.724</td></tr>\n",
       "\t<tr><td>20</td><td>24-12-2010</td><td>3766687</td><td>0</td><td>25.17</td><td>3.141</td><td>204.6377</td><td>7.484</td></tr>\n",
       "\t<tr><td>10</td><td>24-12-2010</td><td>3749058</td><td>0</td><td>57.06</td><td>3.236</td><td>126.9836</td><td>9.003</td></tr>\n",
       "\t<tr><td> 4</td><td>23-12-2011</td><td>3676389</td><td>0</td><td>35.92</td><td>3.103</td><td>129.9845</td><td>5.143</td></tr>\n",
       "\t<tr><td>13</td><td>24-12-2010</td><td>3595903</td><td>0</td><td>34.90</td><td>2.846</td><td>126.9836</td><td>7.795</td></tr>\n",
       "\t<tr><td>13</td><td>23-12-2011</td><td>3556766</td><td>0</td><td>24.76</td><td>3.186</td><td>129.9845</td><td>6.392</td></tr>\n",
       "</tbody>\n",
       "</table>\n"
      ],
      "text/latex": [
       "A tibble: 6 × 8\n",
       "\\begin{tabular}{llllllll}\n",
       " Store & Date & Weekly\\_Sales & Holiday\\_Flag & Temperature & Fuel\\_Price & CPI & Unemployment\\\\\n",
       " <dbl> & <chr> & <dbl> & <dbl> & <dbl> & <dbl> & <dbl> & <dbl>\\\\\n",
       "\\hline\n",
       "\t 14 & 24-12-2010 & 3818686 & 0 & 30.59 & 3.141 & 182.5446 & 8.724\\\\\n",
       "\t 20 & 24-12-2010 & 3766687 & 0 & 25.17 & 3.141 & 204.6377 & 7.484\\\\\n",
       "\t 10 & 24-12-2010 & 3749058 & 0 & 57.06 & 3.236 & 126.9836 & 9.003\\\\\n",
       "\t  4 & 23-12-2011 & 3676389 & 0 & 35.92 & 3.103 & 129.9845 & 5.143\\\\\n",
       "\t 13 & 24-12-2010 & 3595903 & 0 & 34.90 & 2.846 & 126.9836 & 7.795\\\\\n",
       "\t 13 & 23-12-2011 & 3556766 & 0 & 24.76 & 3.186 & 129.9845 & 6.392\\\\\n",
       "\\end{tabular}\n"
      ],
      "text/markdown": [
       "\n",
       "A tibble: 6 × 8\n",
       "\n",
       "| Store &lt;dbl&gt; | Date &lt;chr&gt; | Weekly_Sales &lt;dbl&gt; | Holiday_Flag &lt;dbl&gt; | Temperature &lt;dbl&gt; | Fuel_Price &lt;dbl&gt; | CPI &lt;dbl&gt; | Unemployment &lt;dbl&gt; |\n",
       "|---|---|---|---|---|---|---|---|\n",
       "| 14 | 24-12-2010 | 3818686 | 0 | 30.59 | 3.141 | 182.5446 | 8.724 |\n",
       "| 20 | 24-12-2010 | 3766687 | 0 | 25.17 | 3.141 | 204.6377 | 7.484 |\n",
       "| 10 | 24-12-2010 | 3749058 | 0 | 57.06 | 3.236 | 126.9836 | 9.003 |\n",
       "|  4 | 23-12-2011 | 3676389 | 0 | 35.92 | 3.103 | 129.9845 | 5.143 |\n",
       "| 13 | 24-12-2010 | 3595903 | 0 | 34.90 | 2.846 | 126.9836 | 7.795 |\n",
       "| 13 | 23-12-2011 | 3556766 | 0 | 24.76 | 3.186 | 129.9845 | 6.392 |\n",
       "\n"
      ],
      "text/plain": [
       "  Store Date       Weekly_Sales Holiday_Flag Temperature Fuel_Price CPI     \n",
       "1 14    24-12-2010 3818686      0            30.59       3.141      182.5446\n",
       "2 20    24-12-2010 3766687      0            25.17       3.141      204.6377\n",
       "3 10    24-12-2010 3749058      0            57.06       3.236      126.9836\n",
       "4  4    23-12-2011 3676389      0            35.92       3.103      129.9845\n",
       "5 13    24-12-2010 3595903      0            34.90       2.846      126.9836\n",
       "6 13    23-12-2011 3556766      0            24.76       3.186      129.9845\n",
       "  Unemployment\n",
       "1 8.724       \n",
       "2 7.484       \n",
       "3 9.003       \n",
       "4 5.143       \n",
       "5 7.795       \n",
       "6 6.392       "
      ]
     },
     "metadata": {},
     "output_type": "display_data"
    }
   ],
   "source": [
    "arrange(df, -Weekly_Sales) %>% head"
   ]
  },
  {
   "cell_type": "markdown",
   "metadata": {},
   "source": [
    "## Create or modify columns"
   ]
  },
  {
   "cell_type": "code",
   "execution_count": 8,
   "metadata": {},
   "outputs": [
    {
     "data": {
      "text/html": [
       "<table>\n",
       "<caption>A tibble: 6 × 9</caption>\n",
       "<thead>\n",
       "\t<tr><th scope=col>Store</th><th scope=col>Date</th><th scope=col>Weekly_Sales</th><th scope=col>Holiday_Flag</th><th scope=col>Temperature</th><th scope=col>Fuel_Price</th><th scope=col>CPI</th><th scope=col>Unemployment</th><th scope=col>Weekly_Sales_K</th></tr>\n",
       "\t<tr><th scope=col>&lt;dbl&gt;</th><th scope=col>&lt;date&gt;</th><th scope=col>&lt;dbl&gt;</th><th scope=col>&lt;dbl&gt;</th><th scope=col>&lt;dbl&gt;</th><th scope=col>&lt;dbl&gt;</th><th scope=col>&lt;dbl&gt;</th><th scope=col>&lt;dbl&gt;</th><th scope=col>&lt;dbl&gt;</th></tr>\n",
       "</thead>\n",
       "<tbody>\n",
       "\t<tr><td>1</td><td>2010-02-05</td><td>1643691</td><td>0</td><td>42.31</td><td>2.572</td><td>211.0964</td><td>8.106</td><td>1643.691</td></tr>\n",
       "\t<tr><td>1</td><td>2010-02-12</td><td>1641957</td><td>1</td><td>38.51</td><td>2.548</td><td>211.2422</td><td>8.106</td><td>1641.957</td></tr>\n",
       "\t<tr><td>1</td><td>2010-02-19</td><td>1611968</td><td>0</td><td>39.93</td><td>2.514</td><td>211.2891</td><td>8.106</td><td>1611.968</td></tr>\n",
       "\t<tr><td>1</td><td>2010-02-26</td><td>1409728</td><td>0</td><td>46.63</td><td>2.561</td><td>211.3196</td><td>8.106</td><td>1409.728</td></tr>\n",
       "\t<tr><td>1</td><td>2010-03-05</td><td>1554807</td><td>0</td><td>46.50</td><td>2.625</td><td>211.3501</td><td>8.106</td><td>1554.807</td></tr>\n",
       "\t<tr><td>1</td><td>2010-03-12</td><td>1439542</td><td>0</td><td>57.79</td><td>2.667</td><td>211.3806</td><td>8.106</td><td>1439.542</td></tr>\n",
       "</tbody>\n",
       "</table>\n"
      ],
      "text/latex": [
       "A tibble: 6 × 9\n",
       "\\begin{tabular}{lllllllll}\n",
       " Store & Date & Weekly\\_Sales & Holiday\\_Flag & Temperature & Fuel\\_Price & CPI & Unemployment & Weekly\\_Sales\\_K\\\\\n",
       " <dbl> & <date> & <dbl> & <dbl> & <dbl> & <dbl> & <dbl> & <dbl> & <dbl>\\\\\n",
       "\\hline\n",
       "\t 1 & 2010-02-05 & 1643691 & 0 & 42.31 & 2.572 & 211.0964 & 8.106 & 1643.691\\\\\n",
       "\t 1 & 2010-02-12 & 1641957 & 1 & 38.51 & 2.548 & 211.2422 & 8.106 & 1641.957\\\\\n",
       "\t 1 & 2010-02-19 & 1611968 & 0 & 39.93 & 2.514 & 211.2891 & 8.106 & 1611.968\\\\\n",
       "\t 1 & 2010-02-26 & 1409728 & 0 & 46.63 & 2.561 & 211.3196 & 8.106 & 1409.728\\\\\n",
       "\t 1 & 2010-03-05 & 1554807 & 0 & 46.50 & 2.625 & 211.3501 & 8.106 & 1554.807\\\\\n",
       "\t 1 & 2010-03-12 & 1439542 & 0 & 57.79 & 2.667 & 211.3806 & 8.106 & 1439.542\\\\\n",
       "\\end{tabular}\n"
      ],
      "text/markdown": [
       "\n",
       "A tibble: 6 × 9\n",
       "\n",
       "| Store &lt;dbl&gt; | Date &lt;date&gt; | Weekly_Sales &lt;dbl&gt; | Holiday_Flag &lt;dbl&gt; | Temperature &lt;dbl&gt; | Fuel_Price &lt;dbl&gt; | CPI &lt;dbl&gt; | Unemployment &lt;dbl&gt; | Weekly_Sales_K &lt;dbl&gt; |\n",
       "|---|---|---|---|---|---|---|---|---|\n",
       "| 1 | 2010-02-05 | 1643691 | 0 | 42.31 | 2.572 | 211.0964 | 8.106 | 1643.691 |\n",
       "| 1 | 2010-02-12 | 1641957 | 1 | 38.51 | 2.548 | 211.2422 | 8.106 | 1641.957 |\n",
       "| 1 | 2010-02-19 | 1611968 | 0 | 39.93 | 2.514 | 211.2891 | 8.106 | 1611.968 |\n",
       "| 1 | 2010-02-26 | 1409728 | 0 | 46.63 | 2.561 | 211.3196 | 8.106 | 1409.728 |\n",
       "| 1 | 2010-03-05 | 1554807 | 0 | 46.50 | 2.625 | 211.3501 | 8.106 | 1554.807 |\n",
       "| 1 | 2010-03-12 | 1439542 | 0 | 57.79 | 2.667 | 211.3806 | 8.106 | 1439.542 |\n",
       "\n"
      ],
      "text/plain": [
       "  Store Date       Weekly_Sales Holiday_Flag Temperature Fuel_Price CPI     \n",
       "1 1     2010-02-05 1643691      0            42.31       2.572      211.0964\n",
       "2 1     2010-02-12 1641957      1            38.51       2.548      211.2422\n",
       "3 1     2010-02-19 1611968      0            39.93       2.514      211.2891\n",
       "4 1     2010-02-26 1409728      0            46.63       2.561      211.3196\n",
       "5 1     2010-03-05 1554807      0            46.50       2.625      211.3501\n",
       "6 1     2010-03-12 1439542      0            57.79       2.667      211.3806\n",
       "  Unemployment Weekly_Sales_K\n",
       "1 8.106        1643.691      \n",
       "2 8.106        1641.957      \n",
       "3 8.106        1611.968      \n",
       "4 8.106        1409.728      \n",
       "5 8.106        1554.807      \n",
       "6 8.106        1439.542      "
      ]
     },
     "metadata": {},
     "output_type": "display_data"
    }
   ],
   "source": [
    "mutate(\n",
    "    df,\n",
    "    Date = lubridate::dmy(Date),\n",
    "    Weekly_Sales_K = Weekly_Sales / 1000\n",
    ") %>% head"
   ]
  },
  {
   "cell_type": "markdown",
   "metadata": {},
   "source": [
    "## Rename columns"
   ]
  },
  {
   "cell_type": "code",
   "execution_count": 9,
   "metadata": {},
   "outputs": [
    {
     "data": {
      "text/html": [
       "<table>\n",
       "<caption>A tibble: 6 × 8</caption>\n",
       "<thead>\n",
       "\t<tr><th scope=col>Store</th><th scope=col>Date</th><th scope=col>Weekly_Sales</th><th scope=col>is_holiday</th><th scope=col>Temperature</th><th scope=col>Fuel_Price</th><th scope=col>CPI</th><th scope=col>Unemployment</th></tr>\n",
       "\t<tr><th scope=col>&lt;dbl&gt;</th><th scope=col>&lt;chr&gt;</th><th scope=col>&lt;dbl&gt;</th><th scope=col>&lt;dbl&gt;</th><th scope=col>&lt;dbl&gt;</th><th scope=col>&lt;dbl&gt;</th><th scope=col>&lt;dbl&gt;</th><th scope=col>&lt;dbl&gt;</th></tr>\n",
       "</thead>\n",
       "<tbody>\n",
       "\t<tr><td>1</td><td>05-02-2010</td><td>1643691</td><td>0</td><td>42.31</td><td>2.572</td><td>211.0964</td><td>8.106</td></tr>\n",
       "\t<tr><td>1</td><td>12-02-2010</td><td>1641957</td><td>1</td><td>38.51</td><td>2.548</td><td>211.2422</td><td>8.106</td></tr>\n",
       "\t<tr><td>1</td><td>19-02-2010</td><td>1611968</td><td>0</td><td>39.93</td><td>2.514</td><td>211.2891</td><td>8.106</td></tr>\n",
       "\t<tr><td>1</td><td>26-02-2010</td><td>1409728</td><td>0</td><td>46.63</td><td>2.561</td><td>211.3196</td><td>8.106</td></tr>\n",
       "\t<tr><td>1</td><td>05-03-2010</td><td>1554807</td><td>0</td><td>46.50</td><td>2.625</td><td>211.3501</td><td>8.106</td></tr>\n",
       "\t<tr><td>1</td><td>12-03-2010</td><td>1439542</td><td>0</td><td>57.79</td><td>2.667</td><td>211.3806</td><td>8.106</td></tr>\n",
       "</tbody>\n",
       "</table>\n"
      ],
      "text/latex": [
       "A tibble: 6 × 8\n",
       "\\begin{tabular}{llllllll}\n",
       " Store & Date & Weekly\\_Sales & is\\_holiday & Temperature & Fuel\\_Price & CPI & Unemployment\\\\\n",
       " <dbl> & <chr> & <dbl> & <dbl> & <dbl> & <dbl> & <dbl> & <dbl>\\\\\n",
       "\\hline\n",
       "\t 1 & 05-02-2010 & 1643691 & 0 & 42.31 & 2.572 & 211.0964 & 8.106\\\\\n",
       "\t 1 & 12-02-2010 & 1641957 & 1 & 38.51 & 2.548 & 211.2422 & 8.106\\\\\n",
       "\t 1 & 19-02-2010 & 1611968 & 0 & 39.93 & 2.514 & 211.2891 & 8.106\\\\\n",
       "\t 1 & 26-02-2010 & 1409728 & 0 & 46.63 & 2.561 & 211.3196 & 8.106\\\\\n",
       "\t 1 & 05-03-2010 & 1554807 & 0 & 46.50 & 2.625 & 211.3501 & 8.106\\\\\n",
       "\t 1 & 12-03-2010 & 1439542 & 0 & 57.79 & 2.667 & 211.3806 & 8.106\\\\\n",
       "\\end{tabular}\n"
      ],
      "text/markdown": [
       "\n",
       "A tibble: 6 × 8\n",
       "\n",
       "| Store &lt;dbl&gt; | Date &lt;chr&gt; | Weekly_Sales &lt;dbl&gt; | is_holiday &lt;dbl&gt; | Temperature &lt;dbl&gt; | Fuel_Price &lt;dbl&gt; | CPI &lt;dbl&gt; | Unemployment &lt;dbl&gt; |\n",
       "|---|---|---|---|---|---|---|---|\n",
       "| 1 | 05-02-2010 | 1643691 | 0 | 42.31 | 2.572 | 211.0964 | 8.106 |\n",
       "| 1 | 12-02-2010 | 1641957 | 1 | 38.51 | 2.548 | 211.2422 | 8.106 |\n",
       "| 1 | 19-02-2010 | 1611968 | 0 | 39.93 | 2.514 | 211.2891 | 8.106 |\n",
       "| 1 | 26-02-2010 | 1409728 | 0 | 46.63 | 2.561 | 211.3196 | 8.106 |\n",
       "| 1 | 05-03-2010 | 1554807 | 0 | 46.50 | 2.625 | 211.3501 | 8.106 |\n",
       "| 1 | 12-03-2010 | 1439542 | 0 | 57.79 | 2.667 | 211.3806 | 8.106 |\n",
       "\n"
      ],
      "text/plain": [
       "  Store Date       Weekly_Sales is_holiday Temperature Fuel_Price CPI     \n",
       "1 1     05-02-2010 1643691      0          42.31       2.572      211.0964\n",
       "2 1     12-02-2010 1641957      1          38.51       2.548      211.2422\n",
       "3 1     19-02-2010 1611968      0          39.93       2.514      211.2891\n",
       "4 1     26-02-2010 1409728      0          46.63       2.561      211.3196\n",
       "5 1     05-03-2010 1554807      0          46.50       2.625      211.3501\n",
       "6 1     12-03-2010 1439542      0          57.79       2.667      211.3806\n",
       "  Unemployment\n",
       "1 8.106       \n",
       "2 8.106       \n",
       "3 8.106       \n",
       "4 8.106       \n",
       "5 8.106       \n",
       "6 8.106       "
      ]
     },
     "metadata": {},
     "output_type": "display_data"
    }
   ],
   "source": [
    "rename(df, is_holiday = Holiday_Flag) %>% head"
   ]
  },
  {
   "cell_type": "markdown",
   "metadata": {},
   "source": [
    "## Groupby and summarise"
   ]
  },
  {
   "cell_type": "code",
   "execution_count": 10,
   "metadata": {},
   "outputs": [
    {
     "data": {
      "text/html": [
       "<table>\n",
       "<caption>A tibble: 6 × 2</caption>\n",
       "<thead>\n",
       "\t<tr><th scope=col>Store</th><th scope=col>total_sales</th></tr>\n",
       "\t<tr><th scope=col>&lt;dbl&gt;</th><th scope=col>&lt;dbl&gt;</th></tr>\n",
       "</thead>\n",
       "<tbody>\n",
       "\t<tr><td>1</td><td>222402809</td></tr>\n",
       "\t<tr><td>2</td><td>275382441</td></tr>\n",
       "\t<tr><td>3</td><td> 57586735</td></tr>\n",
       "\t<tr><td>4</td><td>299543953</td></tr>\n",
       "\t<tr><td>5</td><td> 45475689</td></tr>\n",
       "\t<tr><td>6</td><td>223756131</td></tr>\n",
       "</tbody>\n",
       "</table>\n"
      ],
      "text/latex": [
       "A tibble: 6 × 2\n",
       "\\begin{tabular}{ll}\n",
       " Store & total\\_sales\\\\\n",
       " <dbl> & <dbl>\\\\\n",
       "\\hline\n",
       "\t 1 & 222402809\\\\\n",
       "\t 2 & 275382441\\\\\n",
       "\t 3 &  57586735\\\\\n",
       "\t 4 & 299543953\\\\\n",
       "\t 5 &  45475689\\\\\n",
       "\t 6 & 223756131\\\\\n",
       "\\end{tabular}\n"
      ],
      "text/markdown": [
       "\n",
       "A tibble: 6 × 2\n",
       "\n",
       "| Store &lt;dbl&gt; | total_sales &lt;dbl&gt; |\n",
       "|---|---|\n",
       "| 1 | 222402809 |\n",
       "| 2 | 275382441 |\n",
       "| 3 |  57586735 |\n",
       "| 4 | 299543953 |\n",
       "| 5 |  45475689 |\n",
       "| 6 | 223756131 |\n",
       "\n"
      ],
      "text/plain": [
       "  Store total_sales\n",
       "1 1     222402809  \n",
       "2 2     275382441  \n",
       "3 3      57586735  \n",
       "4 4     299543953  \n",
       "5 5      45475689  \n",
       "6 6     223756131  "
      ]
     },
     "metadata": {},
     "output_type": "display_data"
    }
   ],
   "source": [
    "group_by(df, Store) %>% \n",
    "    summarise(total_sales = sum(Weekly_Sales)) %>% \n",
    "    head"
   ]
  },
  {
   "cell_type": "markdown",
   "metadata": {},
   "source": [
    "## Window functions"
   ]
  },
  {
   "cell_type": "code",
   "execution_count": 11,
   "metadata": {},
   "outputs": [
    {
     "data": {
      "text/html": [
       "<table>\n",
       "<caption>A grouped_df: 6 × 4</caption>\n",
       "<thead>\n",
       "\t<tr><th scope=col>Store</th><th scope=col>Date</th><th scope=col>Weekly_Sales</th><th scope=col>total_sales</th></tr>\n",
       "\t<tr><th scope=col>&lt;dbl&gt;</th><th scope=col>&lt;chr&gt;</th><th scope=col>&lt;dbl&gt;</th><th scope=col>&lt;dbl&gt;</th></tr>\n",
       "</thead>\n",
       "<tbody>\n",
       "\t<tr><td>1</td><td>05-02-2010</td><td>1643691</td><td>222402809</td></tr>\n",
       "\t<tr><td>1</td><td>12-02-2010</td><td>1641957</td><td>222402809</td></tr>\n",
       "\t<tr><td>1</td><td>19-02-2010</td><td>1611968</td><td>222402809</td></tr>\n",
       "\t<tr><td>1</td><td>26-02-2010</td><td>1409728</td><td>222402809</td></tr>\n",
       "\t<tr><td>1</td><td>05-03-2010</td><td>1554807</td><td>222402809</td></tr>\n",
       "\t<tr><td>1</td><td>12-03-2010</td><td>1439542</td><td>222402809</td></tr>\n",
       "</tbody>\n",
       "</table>\n"
      ],
      "text/latex": [
       "A grouped\\_df: 6 × 4\n",
       "\\begin{tabular}{llll}\n",
       " Store & Date & Weekly\\_Sales & total\\_sales\\\\\n",
       " <dbl> & <chr> & <dbl> & <dbl>\\\\\n",
       "\\hline\n",
       "\t 1 & 05-02-2010 & 1643691 & 222402809\\\\\n",
       "\t 1 & 12-02-2010 & 1641957 & 222402809\\\\\n",
       "\t 1 & 19-02-2010 & 1611968 & 222402809\\\\\n",
       "\t 1 & 26-02-2010 & 1409728 & 222402809\\\\\n",
       "\t 1 & 05-03-2010 & 1554807 & 222402809\\\\\n",
       "\t 1 & 12-03-2010 & 1439542 & 222402809\\\\\n",
       "\\end{tabular}\n"
      ],
      "text/markdown": [
       "\n",
       "A grouped_df: 6 × 4\n",
       "\n",
       "| Store &lt;dbl&gt; | Date &lt;chr&gt; | Weekly_Sales &lt;dbl&gt; | total_sales &lt;dbl&gt; |\n",
       "|---|---|---|---|\n",
       "| 1 | 05-02-2010 | 1643691 | 222402809 |\n",
       "| 1 | 12-02-2010 | 1641957 | 222402809 |\n",
       "| 1 | 19-02-2010 | 1611968 | 222402809 |\n",
       "| 1 | 26-02-2010 | 1409728 | 222402809 |\n",
       "| 1 | 05-03-2010 | 1554807 | 222402809 |\n",
       "| 1 | 12-03-2010 | 1439542 | 222402809 |\n",
       "\n"
      ],
      "text/plain": [
       "  Store Date       Weekly_Sales total_sales\n",
       "1 1     05-02-2010 1643691      222402809  \n",
       "2 1     12-02-2010 1641957      222402809  \n",
       "3 1     19-02-2010 1611968      222402809  \n",
       "4 1     26-02-2010 1409728      222402809  \n",
       "5 1     05-03-2010 1554807      222402809  \n",
       "6 1     12-03-2010 1439542      222402809  "
      ]
     },
     "metadata": {},
     "output_type": "display_data"
    }
   ],
   "source": [
    "df %>% \n",
    "    select(Store, Date, Weekly_Sales) %>% \n",
    "    group_by(Store) %>% \n",
    "    mutate(total_sales = sum(Weekly_Sales)) %>% \n",
    "    head"
   ]
  },
  {
   "cell_type": "markdown",
   "metadata": {},
   "source": [
    "# R pipes and Method chaining"
   ]
  },
  {
   "cell_type": "code",
   "execution_count": 12,
   "metadata": {},
   "outputs": [
    {
     "name": "stderr",
     "output_type": "stream",
     "text": [
      "Selecting by weekly_sales\n",
      "\n"
     ]
    },
    {
     "data": {
      "text/html": [
       "<table>\n",
       "<caption>A grouped_df: 50 × 3</caption>\n",
       "<thead>\n",
       "\t<tr><th scope=col>date</th><th scope=col>store</th><th scope=col>weekly_sales</th></tr>\n",
       "\t<tr><th scope=col>&lt;date&gt;</th><th scope=col>&lt;dbl&gt;</th><th scope=col>&lt;chr&gt;</th></tr>\n",
       "</thead>\n",
       "<tbody>\n",
       "\t<tr><td>2012-09-07</td><td>13</td><td>2,165,796</td></tr>\n",
       "\t<tr><td>2012-09-07</td><td> 4</td><td>2,125,105</td></tr>\n",
       "\t<tr><td>2012-09-07</td><td>20</td><td>2,080,529</td></tr>\n",
       "\t<tr><td>2012-09-07</td><td>14</td><td>1,904,512</td></tr>\n",
       "\t<tr><td>2012-09-07</td><td> 2</td><td>1,898,777</td></tr>\n",
       "\t<tr><td>2012-02-10</td><td>20</td><td>2,462,978</td></tr>\n",
       "\t<tr><td>2012-02-10</td><td> 4</td><td>2,374,661</td></tr>\n",
       "\t<tr><td>2012-02-10</td><td>10</td><td>2,218,596</td></tr>\n",
       "\t<tr><td>2012-02-10</td><td> 2</td><td>2,103,323</td></tr>\n",
       "\t<tr><td>2012-02-10</td><td>14</td><td>2,077,256</td></tr>\n",
       "\t<tr><td>2011-12-30</td><td>20</td><td>2,043,245</td></tr>\n",
       "\t<tr><td>2011-12-30</td><td> 4</td><td>2,007,106</td></tr>\n",
       "\t<tr><td>2011-12-30</td><td>13</td><td>1,969,057</td></tr>\n",
       "\t<tr><td>2011-12-30</td><td>10</td><td>1,930,690</td></tr>\n",
       "\t<tr><td>2011-12-30</td><td>14</td><td>1,914,149</td></tr>\n",
       "\t<tr><td>2011-11-25</td><td> 4</td><td>3,004,702</td></tr>\n",
       "\t<tr><td>2011-11-25</td><td>10</td><td>2,950,199</td></tr>\n",
       "\t<tr><td>2011-11-25</td><td>20</td><td>2,906,233</td></tr>\n",
       "\t<tr><td>2011-11-25</td><td>13</td><td>2,864,171</td></tr>\n",
       "\t<tr><td>2011-11-25</td><td>14</td><td>2,685,352</td></tr>\n",
       "\t<tr><td>2011-09-09</td><td>14</td><td>2,202,743</td></tr>\n",
       "\t<tr><td>2011-09-09</td><td> 4</td><td>2,093,139</td></tr>\n",
       "\t<tr><td>2011-09-09</td><td>20</td><td>2,050,543</td></tr>\n",
       "\t<tr><td>2011-09-09</td><td>27</td><td>1,911,471</td></tr>\n",
       "\t<tr><td>2011-09-09</td><td>13</td><td>1,872,921</td></tr>\n",
       "\t<tr><td>2011-02-11</td><td>20</td><td>2,211,388</td></tr>\n",
       "\t<tr><td>2011-02-11</td><td> 4</td><td>2,187,847</td></tr>\n",
       "\t<tr><td>2011-02-11</td><td> 2</td><td>2,168,042</td></tr>\n",
       "\t<tr><td>2011-02-11</td><td>10</td><td>2,115,408</td></tr>\n",
       "\t<tr><td>2011-02-11</td><td>14</td><td>1,980,405</td></tr>\n",
       "\t<tr><td>2010-12-31</td><td>20</td><td>1,799,738</td></tr>\n",
       "\t<tr><td>2010-12-31</td><td> 4</td><td>1,794,869</td></tr>\n",
       "\t<tr><td>2010-12-31</td><td> 2</td><td>1,750,435</td></tr>\n",
       "\t<tr><td>2010-12-31</td><td>10</td><td>1,707,298</td></tr>\n",
       "\t<tr><td>2010-12-31</td><td>13</td><td>1,675,292</td></tr>\n",
       "\t<tr><td>2010-11-26</td><td>10</td><td>2,939,946</td></tr>\n",
       "\t<tr><td>2010-11-26</td><td>14</td><td>2,921,710</td></tr>\n",
       "\t<tr><td>2010-11-26</td><td>20</td><td>2,811,634</td></tr>\n",
       "\t<tr><td>2010-11-26</td><td> 4</td><td>2,789,469</td></tr>\n",
       "\t<tr><td>2010-11-26</td><td>13</td><td>2,766,400</td></tr>\n",
       "\t<tr><td>2010-09-10</td><td>14</td><td>2,191,768</td></tr>\n",
       "\t<tr><td>2010-09-10</td><td>20</td><td>2,014,955</td></tr>\n",
       "\t<tr><td>2010-09-10</td><td>27</td><td>1,913,495</td></tr>\n",
       "\t<tr><td>2010-09-10</td><td> 4</td><td>1,865,821</td></tr>\n",
       "\t<tr><td>2010-09-10</td><td> 2</td><td>1,839,129</td></tr>\n",
       "\t<tr><td>2010-02-12</td><td> 4</td><td>2,188,307</td></tr>\n",
       "\t<tr><td>2010-02-12</td><td>10</td><td>2,176,029</td></tr>\n",
       "\t<tr><td>2010-02-12</td><td> 2</td><td>2,137,810</td></tr>\n",
       "\t<tr><td>2010-02-12</td><td>20</td><td>2,109,108</td></tr>\n",
       "\t<tr><td>2010-02-12</td><td>13</td><td>2,030,933</td></tr>\n",
       "</tbody>\n",
       "</table>\n"
      ],
      "text/latex": [
       "A grouped\\_df: 50 × 3\n",
       "\\begin{tabular}{lll}\n",
       " date & store & weekly\\_sales\\\\\n",
       " <date> & <dbl> & <chr>\\\\\n",
       "\\hline\n",
       "\t 2012-09-07 & 13 & 2,165,796\\\\\n",
       "\t 2012-09-07 &  4 & 2,125,105\\\\\n",
       "\t 2012-09-07 & 20 & 2,080,529\\\\\n",
       "\t 2012-09-07 & 14 & 1,904,512\\\\\n",
       "\t 2012-09-07 &  2 & 1,898,777\\\\\n",
       "\t 2012-02-10 & 20 & 2,462,978\\\\\n",
       "\t 2012-02-10 &  4 & 2,374,661\\\\\n",
       "\t 2012-02-10 & 10 & 2,218,596\\\\\n",
       "\t 2012-02-10 &  2 & 2,103,323\\\\\n",
       "\t 2012-02-10 & 14 & 2,077,256\\\\\n",
       "\t 2011-12-30 & 20 & 2,043,245\\\\\n",
       "\t 2011-12-30 &  4 & 2,007,106\\\\\n",
       "\t 2011-12-30 & 13 & 1,969,057\\\\\n",
       "\t 2011-12-30 & 10 & 1,930,690\\\\\n",
       "\t 2011-12-30 & 14 & 1,914,149\\\\\n",
       "\t 2011-11-25 &  4 & 3,004,702\\\\\n",
       "\t 2011-11-25 & 10 & 2,950,199\\\\\n",
       "\t 2011-11-25 & 20 & 2,906,233\\\\\n",
       "\t 2011-11-25 & 13 & 2,864,171\\\\\n",
       "\t 2011-11-25 & 14 & 2,685,352\\\\\n",
       "\t 2011-09-09 & 14 & 2,202,743\\\\\n",
       "\t 2011-09-09 &  4 & 2,093,139\\\\\n",
       "\t 2011-09-09 & 20 & 2,050,543\\\\\n",
       "\t 2011-09-09 & 27 & 1,911,471\\\\\n",
       "\t 2011-09-09 & 13 & 1,872,921\\\\\n",
       "\t 2011-02-11 & 20 & 2,211,388\\\\\n",
       "\t 2011-02-11 &  4 & 2,187,847\\\\\n",
       "\t 2011-02-11 &  2 & 2,168,042\\\\\n",
       "\t 2011-02-11 & 10 & 2,115,408\\\\\n",
       "\t 2011-02-11 & 14 & 1,980,405\\\\\n",
       "\t 2010-12-31 & 20 & 1,799,738\\\\\n",
       "\t 2010-12-31 &  4 & 1,794,869\\\\\n",
       "\t 2010-12-31 &  2 & 1,750,435\\\\\n",
       "\t 2010-12-31 & 10 & 1,707,298\\\\\n",
       "\t 2010-12-31 & 13 & 1,675,292\\\\\n",
       "\t 2010-11-26 & 10 & 2,939,946\\\\\n",
       "\t 2010-11-26 & 14 & 2,921,710\\\\\n",
       "\t 2010-11-26 & 20 & 2,811,634\\\\\n",
       "\t 2010-11-26 &  4 & 2,789,469\\\\\n",
       "\t 2010-11-26 & 13 & 2,766,400\\\\\n",
       "\t 2010-09-10 & 14 & 2,191,768\\\\\n",
       "\t 2010-09-10 & 20 & 2,014,955\\\\\n",
       "\t 2010-09-10 & 27 & 1,913,495\\\\\n",
       "\t 2010-09-10 &  4 & 1,865,821\\\\\n",
       "\t 2010-09-10 &  2 & 1,839,129\\\\\n",
       "\t 2010-02-12 &  4 & 2,188,307\\\\\n",
       "\t 2010-02-12 & 10 & 2,176,029\\\\\n",
       "\t 2010-02-12 &  2 & 2,137,810\\\\\n",
       "\t 2010-02-12 & 20 & 2,109,108\\\\\n",
       "\t 2010-02-12 & 13 & 2,030,933\\\\\n",
       "\\end{tabular}\n"
      ],
      "text/markdown": [
       "\n",
       "A grouped_df: 50 × 3\n",
       "\n",
       "| date &lt;date&gt; | store &lt;dbl&gt; | weekly_sales &lt;chr&gt; |\n",
       "|---|---|---|\n",
       "| 2012-09-07 | 13 | 2,165,796 |\n",
       "| 2012-09-07 |  4 | 2,125,105 |\n",
       "| 2012-09-07 | 20 | 2,080,529 |\n",
       "| 2012-09-07 | 14 | 1,904,512 |\n",
       "| 2012-09-07 |  2 | 1,898,777 |\n",
       "| 2012-02-10 | 20 | 2,462,978 |\n",
       "| 2012-02-10 |  4 | 2,374,661 |\n",
       "| 2012-02-10 | 10 | 2,218,596 |\n",
       "| 2012-02-10 |  2 | 2,103,323 |\n",
       "| 2012-02-10 | 14 | 2,077,256 |\n",
       "| 2011-12-30 | 20 | 2,043,245 |\n",
       "| 2011-12-30 |  4 | 2,007,106 |\n",
       "| 2011-12-30 | 13 | 1,969,057 |\n",
       "| 2011-12-30 | 10 | 1,930,690 |\n",
       "| 2011-12-30 | 14 | 1,914,149 |\n",
       "| 2011-11-25 |  4 | 3,004,702 |\n",
       "| 2011-11-25 | 10 | 2,950,199 |\n",
       "| 2011-11-25 | 20 | 2,906,233 |\n",
       "| 2011-11-25 | 13 | 2,864,171 |\n",
       "| 2011-11-25 | 14 | 2,685,352 |\n",
       "| 2011-09-09 | 14 | 2,202,743 |\n",
       "| 2011-09-09 |  4 | 2,093,139 |\n",
       "| 2011-09-09 | 20 | 2,050,543 |\n",
       "| 2011-09-09 | 27 | 1,911,471 |\n",
       "| 2011-09-09 | 13 | 1,872,921 |\n",
       "| 2011-02-11 | 20 | 2,211,388 |\n",
       "| 2011-02-11 |  4 | 2,187,847 |\n",
       "| 2011-02-11 |  2 | 2,168,042 |\n",
       "| 2011-02-11 | 10 | 2,115,408 |\n",
       "| 2011-02-11 | 14 | 1,980,405 |\n",
       "| 2010-12-31 | 20 | 1,799,738 |\n",
       "| 2010-12-31 |  4 | 1,794,869 |\n",
       "| 2010-12-31 |  2 | 1,750,435 |\n",
       "| 2010-12-31 | 10 | 1,707,298 |\n",
       "| 2010-12-31 | 13 | 1,675,292 |\n",
       "| 2010-11-26 | 10 | 2,939,946 |\n",
       "| 2010-11-26 | 14 | 2,921,710 |\n",
       "| 2010-11-26 | 20 | 2,811,634 |\n",
       "| 2010-11-26 |  4 | 2,789,469 |\n",
       "| 2010-11-26 | 13 | 2,766,400 |\n",
       "| 2010-09-10 | 14 | 2,191,768 |\n",
       "| 2010-09-10 | 20 | 2,014,955 |\n",
       "| 2010-09-10 | 27 | 1,913,495 |\n",
       "| 2010-09-10 |  4 | 1,865,821 |\n",
       "| 2010-09-10 |  2 | 1,839,129 |\n",
       "| 2010-02-12 |  4 | 2,188,307 |\n",
       "| 2010-02-12 | 10 | 2,176,029 |\n",
       "| 2010-02-12 |  2 | 2,137,810 |\n",
       "| 2010-02-12 | 20 | 2,109,108 |\n",
       "| 2010-02-12 | 13 | 2,030,933 |\n",
       "\n"
      ],
      "text/plain": [
       "   date       store weekly_sales\n",
       "1  2012-09-07 13    2,165,796   \n",
       "2  2012-09-07  4    2,125,105   \n",
       "3  2012-09-07 20    2,080,529   \n",
       "4  2012-09-07 14    1,904,512   \n",
       "5  2012-09-07  2    1,898,777   \n",
       "6  2012-02-10 20    2,462,978   \n",
       "7  2012-02-10  4    2,374,661   \n",
       "8  2012-02-10 10    2,218,596   \n",
       "9  2012-02-10  2    2,103,323   \n",
       "10 2012-02-10 14    2,077,256   \n",
       "11 2011-12-30 20    2,043,245   \n",
       "12 2011-12-30  4    2,007,106   \n",
       "13 2011-12-30 13    1,969,057   \n",
       "14 2011-12-30 10    1,930,690   \n",
       "15 2011-12-30 14    1,914,149   \n",
       "16 2011-11-25  4    3,004,702   \n",
       "17 2011-11-25 10    2,950,199   \n",
       "18 2011-11-25 20    2,906,233   \n",
       "19 2011-11-25 13    2,864,171   \n",
       "20 2011-11-25 14    2,685,352   \n",
       "21 2011-09-09 14    2,202,743   \n",
       "22 2011-09-09  4    2,093,139   \n",
       "23 2011-09-09 20    2,050,543   \n",
       "24 2011-09-09 27    1,911,471   \n",
       "25 2011-09-09 13    1,872,921   \n",
       "26 2011-02-11 20    2,211,388   \n",
       "27 2011-02-11  4    2,187,847   \n",
       "28 2011-02-11  2    2,168,042   \n",
       "29 2011-02-11 10    2,115,408   \n",
       "30 2011-02-11 14    1,980,405   \n",
       "31 2010-12-31 20    1,799,738   \n",
       "32 2010-12-31  4    1,794,869   \n",
       "33 2010-12-31  2    1,750,435   \n",
       "34 2010-12-31 10    1,707,298   \n",
       "35 2010-12-31 13    1,675,292   \n",
       "36 2010-11-26 10    2,939,946   \n",
       "37 2010-11-26 14    2,921,710   \n",
       "38 2010-11-26 20    2,811,634   \n",
       "39 2010-11-26  4    2,789,469   \n",
       "40 2010-11-26 13    2,766,400   \n",
       "41 2010-09-10 14    2,191,768   \n",
       "42 2010-09-10 20    2,014,955   \n",
       "43 2010-09-10 27    1,913,495   \n",
       "44 2010-09-10  4    1,865,821   \n",
       "45 2010-09-10  2    1,839,129   \n",
       "46 2010-02-12  4    2,188,307   \n",
       "47 2010-02-12 10    2,176,029   \n",
       "48 2010-02-12  2    2,137,810   \n",
       "49 2010-02-12 20    2,109,108   \n",
       "50 2010-02-12 13    2,030,933   "
      ]
     },
     "metadata": {},
     "output_type": "display_data"
    }
   ],
   "source": [
    "df %>%\n",
    "    select_all(tolower) %>%\n",
    "    filter(holiday_flag == 1) %>% \n",
    "    select(date, store, weekly_sales) %>% \n",
    "    mutate(date = lubridate::dmy(date)) %>% \n",
    "    arrange(desc(date), -weekly_sales) %>% \n",
    "    group_by(date) %>% \n",
    "    top_n(5) %>% \n",
    "    mutate(weekly_sales = scales::comma_format()(weekly_sales))"
   ]
  }
 ],
 "metadata": {
  "hide_input": false,
  "kernelspec": {
   "display_name": "R",
   "language": "R",
   "name": "ir"
  },
  "language_info": {
   "codemirror_mode": "r",
   "file_extension": ".r",
   "mimetype": "text/x-r-source",
   "name": "R",
   "pygments_lexer": "r",
   "version": "3.6.3"
  },
  "toc": {
   "base_numbering": 1,
   "nav_menu": {},
   "number_sections": true,
   "sideBar": true,
   "skip_h1_title": false,
   "title_cell": "Table of Contents",
   "title_sidebar": "Contents",
   "toc_cell": false,
   "toc_position": {},
   "toc_section_display": true,
   "toc_window_display": true
  }
 },
 "nbformat": 4,
 "nbformat_minor": 4
}
