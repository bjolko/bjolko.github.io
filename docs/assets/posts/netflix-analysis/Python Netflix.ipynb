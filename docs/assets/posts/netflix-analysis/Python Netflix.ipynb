{
 "cells": [
  {
   "cell_type": "code",
   "execution_count": 1,
   "metadata": {},
   "outputs": [],
   "source": [
    "# !pip install imdbpy"
   ]
  },
  {
   "cell_type": "code",
   "execution_count": 2,
   "metadata": {},
   "outputs": [],
   "source": [
    "import pandas as pd\n",
    "import numpy as np\n",
    "from imdb import IMDb\n",
    "\n",
    "from pprint import pprint\n",
    "from IPython.display import display, HTML, Markdown\n",
    "\n",
    "import matplotlib.pyplot as plt\n",
    "import seaborn as sns\n",
    "\n",
    "import pickle\n",
    "from tqdm.notebook import tqdm, trange\n",
    "\n",
    "\n",
    "reload_imdb = True # If need to re-run IMDb Loop\n",
    "filename = 'imdb_data.pkl' # Where to save IMDb data\n",
    "sns.set_style('whitegrid')"
   ]
  },
  {
   "cell_type": "code",
   "execution_count": 3,
   "metadata": {},
   "outputs": [],
   "source": [
    "def print_markdown(text):\n",
    "    display(Markdown(text))"
   ]
  },
  {
   "cell_type": "markdown",
   "metadata": {},
   "source": [
    "# Netflix data"
   ]
  },
  {
   "cell_type": "code",
   "execution_count": 5,
   "metadata": {},
   "outputs": [],
   "source": [
    "df = pd.read_csv('ViewingActivity.csv')"
   ]
  },
  {
   "cell_type": "code",
   "execution_count": 6,
   "metadata": {},
   "outputs": [
    {
     "data": {
      "text/html": [
       "<div>\n",
       "<style scoped>\n",
       "    .dataframe tbody tr th:only-of-type {\n",
       "        vertical-align: middle;\n",
       "    }\n",
       "\n",
       "    .dataframe tbody tr th {\n",
       "        vertical-align: top;\n",
       "    }\n",
       "\n",
       "    .dataframe thead th {\n",
       "        text-align: right;\n",
       "    }\n",
       "</style>\n",
       "<table border=\"1\" class=\"dataframe\">\n",
       "  <thead>\n",
       "    <tr style=\"text-align: right;\">\n",
       "      <th></th>\n",
       "      <th>Profile Name</th>\n",
       "      <th>Start Time</th>\n",
       "      <th>Duration</th>\n",
       "      <th>Attributes</th>\n",
       "      <th>Title</th>\n",
       "      <th>Supplemental Video Type</th>\n",
       "      <th>Device Type</th>\n",
       "      <th>Bookmark</th>\n",
       "      <th>Latest Bookmark</th>\n",
       "      <th>Country</th>\n",
       "    </tr>\n",
       "  </thead>\n",
       "  <tbody>\n",
       "    <tr>\n",
       "      <th>0</th>\n",
       "      <td>Home</td>\n",
       "      <td>2021-03-26 19:51:53</td>\n",
       "      <td>00:06:26</td>\n",
       "      <td>NaN</td>\n",
       "      <td>Bridgerton: Season 1: Swish (Episode 6)</td>\n",
       "      <td>NaN</td>\n",
       "      <td>Apple TV 4K</td>\n",
       "      <td>00:15:57</td>\n",
       "      <td>00:15:57</td>\n",
       "      <td>KZ (Kazakhstan)</td>\n",
       "    </tr>\n",
       "    <tr>\n",
       "      <th>1</th>\n",
       "      <td>Home</td>\n",
       "      <td>2021-03-26 19:08:29</td>\n",
       "      <td>00:41:41</td>\n",
       "      <td>Autoplayed: user action: None;</td>\n",
       "      <td>The One: Season 1: Episode 8</td>\n",
       "      <td>NaN</td>\n",
       "      <td>Apple TV 4K</td>\n",
       "      <td>00:41:51</td>\n",
       "      <td>00:41:51</td>\n",
       "      <td>KZ (Kazakhstan)</td>\n",
       "    </tr>\n",
       "    <tr>\n",
       "      <th>2</th>\n",
       "      <td>Home</td>\n",
       "      <td>2021-03-26 18:26:54</td>\n",
       "      <td>00:40:44</td>\n",
       "      <td>Autoplayed: user action: None;</td>\n",
       "      <td>The One: Season 1: Episode 7</td>\n",
       "      <td>NaN</td>\n",
       "      <td>Apple TV 4K</td>\n",
       "      <td>00:40:49</td>\n",
       "      <td>00:40:49</td>\n",
       "      <td>KZ (Kazakhstan)</td>\n",
       "    </tr>\n",
       "    <tr>\n",
       "      <th>3</th>\n",
       "      <td>Home</td>\n",
       "      <td>2021-03-26 17:45:02</td>\n",
       "      <td>00:37:05</td>\n",
       "      <td>Autoplayed: user action: None;</td>\n",
       "      <td>The One: Season 1: Episode 6</td>\n",
       "      <td>NaN</td>\n",
       "      <td>Apple TV 4K</td>\n",
       "      <td>00:37:13</td>\n",
       "      <td>00:37:13</td>\n",
       "      <td>KZ (Kazakhstan)</td>\n",
       "    </tr>\n",
       "    <tr>\n",
       "      <th>4</th>\n",
       "      <td>Home</td>\n",
       "      <td>2021-03-26 17:12:29</td>\n",
       "      <td>00:32:09</td>\n",
       "      <td>NaN</td>\n",
       "      <td>The One: Season 1: Episode 5</td>\n",
       "      <td>NaN</td>\n",
       "      <td>Apple TV 4K</td>\n",
       "      <td>00:40:09</td>\n",
       "      <td>00:40:09</td>\n",
       "      <td>KZ (Kazakhstan)</td>\n",
       "    </tr>\n",
       "  </tbody>\n",
       "</table>\n",
       "</div>"
      ],
      "text/plain": [
       "  Profile Name           Start Time  Duration  \\\n",
       "0         Home  2021-03-26 19:51:53  00:06:26   \n",
       "1         Home  2021-03-26 19:08:29  00:41:41   \n",
       "2         Home  2021-03-26 18:26:54  00:40:44   \n",
       "3         Home  2021-03-26 17:45:02  00:37:05   \n",
       "4         Home  2021-03-26 17:12:29  00:32:09   \n",
       "\n",
       "                        Attributes                                    Title  \\\n",
       "0                              NaN  Bridgerton: Season 1: Swish (Episode 6)   \n",
       "1  Autoplayed: user action: None;              The One: Season 1: Episode 8   \n",
       "2  Autoplayed: user action: None;              The One: Season 1: Episode 7   \n",
       "3  Autoplayed: user action: None;              The One: Season 1: Episode 6   \n",
       "4                              NaN             The One: Season 1: Episode 5   \n",
       "\n",
       "  Supplemental Video Type  Device Type  Bookmark Latest Bookmark  \\\n",
       "0                     NaN  Apple TV 4K  00:15:57        00:15:57   \n",
       "1                     NaN  Apple TV 4K  00:41:51        00:41:51   \n",
       "2                     NaN  Apple TV 4K  00:40:49        00:40:49   \n",
       "3                     NaN  Apple TV 4K  00:37:13        00:37:13   \n",
       "4                     NaN  Apple TV 4K  00:40:09        00:40:09   \n",
       "\n",
       "           Country  \n",
       "0  KZ (Kazakhstan)  \n",
       "1  KZ (Kazakhstan)  \n",
       "2  KZ (Kazakhstan)  \n",
       "3  KZ (Kazakhstan)  \n",
       "4  KZ (Kazakhstan)  "
      ]
     },
     "execution_count": 6,
     "metadata": {},
     "output_type": "execute_result"
    }
   ],
   "source": [
    "# Start Time - UTC\n",
    "df.head()"
   ]
  },
  {
   "cell_type": "code",
   "execution_count": 7,
   "metadata": {},
   "outputs": [
    {
     "name": "stdout",
     "output_type": "stream",
     "text": [
      "<class 'pandas.core.frame.DataFrame'>\n",
      "RangeIndex: 1091 entries, 0 to 1090\n",
      "Data columns (total 10 columns):\n",
      " #   Column                   Non-Null Count  Dtype \n",
      "---  ------                   --------------  ----- \n",
      " 0   Profile Name             1091 non-null   object\n",
      " 1   Start Time               1091 non-null   object\n",
      " 2   Duration                 1091 non-null   object\n",
      " 3   Attributes               306 non-null    object\n",
      " 4   Title                    1091 non-null   object\n",
      " 5   Supplemental Video Type  163 non-null    object\n",
      " 6   Device Type              1091 non-null   object\n",
      " 7   Bookmark                 1091 non-null   object\n",
      " 8   Latest Bookmark          1091 non-null   object\n",
      " 9   Country                  1091 non-null   object\n",
      "dtypes: object(10)\n",
      "memory usage: 85.4+ KB\n"
     ]
    }
   ],
   "source": [
    "df.info()"
   ]
  },
  {
   "cell_type": "code",
   "execution_count": 8,
   "metadata": {},
   "outputs": [
    {
     "data": {
      "text/html": [
       "<div>\n",
       "<style scoped>\n",
       "    .dataframe tbody tr th:only-of-type {\n",
       "        vertical-align: middle;\n",
       "    }\n",
       "\n",
       "    .dataframe tbody tr th {\n",
       "        vertical-align: top;\n",
       "    }\n",
       "\n",
       "    .dataframe thead th {\n",
       "        text-align: right;\n",
       "    }\n",
       "</style>\n",
       "<table border=\"1\" class=\"dataframe\">\n",
       "  <thead>\n",
       "    <tr style=\"text-align: right;\">\n",
       "      <th></th>\n",
       "      <th>profile_name</th>\n",
       "      <th>start_time_kz</th>\n",
       "      <th>is_holiday</th>\n",
       "      <th>start_date</th>\n",
       "      <th>start_hour</th>\n",
       "      <th>duration_hours</th>\n",
       "      <th>title</th>\n",
       "      <th>title_clean</th>\n",
       "    </tr>\n",
       "  </thead>\n",
       "  <tbody>\n",
       "    <tr>\n",
       "      <th>139</th>\n",
       "      <td>Home</td>\n",
       "      <td>2020-09-01 14:06:23</td>\n",
       "      <td>False</td>\n",
       "      <td>2020-09-01</td>\n",
       "      <td>14</td>\n",
       "      <td>0.166667</td>\n",
       "      <td>Anne with an E: Season 1: I Am No Bird, and No...</td>\n",
       "      <td>Anne with an E</td>\n",
       "    </tr>\n",
       "    <tr>\n",
       "      <th>935</th>\n",
       "      <td>Family</td>\n",
       "      <td>2018-10-08 21:49:17</td>\n",
       "      <td>False</td>\n",
       "      <td>2018-10-08</td>\n",
       "      <td>21</td>\n",
       "      <td>0.016667</td>\n",
       "      <td>The Amazing Spider-Man 2</td>\n",
       "      <td>The Amazing Spider-Man 2</td>\n",
       "    </tr>\n",
       "    <tr>\n",
       "      <th>318</th>\n",
       "      <td>Home</td>\n",
       "      <td>2019-11-03 21:02:11</td>\n",
       "      <td>True</td>\n",
       "      <td>2019-11-03</td>\n",
       "      <td>21</td>\n",
       "      <td>0.433333</td>\n",
       "      <td>Insatiable: Season 2: Poison Patty (Episode 4)</td>\n",
       "      <td>Insatiable</td>\n",
       "    </tr>\n",
       "    <tr>\n",
       "      <th>195</th>\n",
       "      <td>Home</td>\n",
       "      <td>2020-03-26 21:44:20</td>\n",
       "      <td>False</td>\n",
       "      <td>2020-03-26</td>\n",
       "      <td>21</td>\n",
       "      <td>0.583333</td>\n",
       "      <td>Locke &amp; Key: Season 1: Crown of Shadows (Episo...</td>\n",
       "      <td>Locke &amp; Key</td>\n",
       "    </tr>\n",
       "    <tr>\n",
       "      <th>847</th>\n",
       "      <td>Family</td>\n",
       "      <td>2019-03-26 20:10:47</td>\n",
       "      <td>False</td>\n",
       "      <td>2019-03-26</td>\n",
       "      <td>20</td>\n",
       "      <td>0.900000</td>\n",
       "      <td>The Umbrella Academy: Season 1: Extra Ordinary...</td>\n",
       "      <td>The Umbrella Academy</td>\n",
       "    </tr>\n",
       "  </tbody>\n",
       "</table>\n",
       "</div>"
      ],
      "text/plain": [
       "    profile_name       start_time_kz  is_holiday  start_date  start_hour  \\\n",
       "139         Home 2020-09-01 14:06:23       False  2020-09-01          14   \n",
       "935       Family 2018-10-08 21:49:17       False  2018-10-08          21   \n",
       "318         Home 2019-11-03 21:02:11        True  2019-11-03          21   \n",
       "195         Home 2020-03-26 21:44:20       False  2020-03-26          21   \n",
       "847       Family 2019-03-26 20:10:47       False  2019-03-26          20   \n",
       "\n",
       "     duration_hours                                              title  \\\n",
       "139        0.166667  Anne with an E: Season 1: I Am No Bird, and No...   \n",
       "935        0.016667                           The Amazing Spider-Man 2   \n",
       "318        0.433333     Insatiable: Season 2: Poison Patty (Episode 4)   \n",
       "195        0.583333  Locke & Key: Season 1: Crown of Shadows (Episo...   \n",
       "847        0.900000  The Umbrella Academy: Season 1: Extra Ordinary...   \n",
       "\n",
       "                  title_clean  \n",
       "139            Anne with an E  \n",
       "935  The Amazing Spider-Man 2  \n",
       "318                Insatiable  \n",
       "195               Locke & Key  \n",
       "847      The Umbrella Academy  "
      ]
     },
     "execution_count": 8,
     "metadata": {},
     "output_type": "execute_result"
    }
   ],
   "source": [
    "df_clean = (\n",
    "    df\n",
    "    .rename(columns=lambda x: x.lower().replace(' ', '_')) # Normalize column names\n",
    "    .loc[lambda x: x['supplemental_video_type'].isnull()] # Remove supplementals (trailers, teasers, etc)\n",
    "    .assign(\n",
    "        start_time     = lambda x: pd.to_datetime(x['start_time']),\n",
    "        start_time_kz  = lambda x: x['start_time'] + pd.DateOffset(hours=6), # Convert to UTC +6 (Kazakhstan, Almaty)\n",
    "        duration       = lambda x: pd.to_datetime(x['duration'], format='%H:%M:%S'),\n",
    "        duration_hours = lambda x: x['duration'].dt.hour + x['duration'].dt.minute / 60,\n",
    "        title_clean    = lambda x: x['title'].str.replace(': (?i)(part|season|volume|limited series|series|chapter)(.*)', '').str.strip(),\n",
    "        start_date     = lambda x: x['start_time_kz'].dt.date,\n",
    "        start_hour     = lambda x: x['start_time_kz'].dt.hour,\n",
    "        is_holiday     = lambda x: x['start_time_kz'].dt.weekday >= 5,\n",
    "    )\n",
    "    [['profile_name', 'start_time_kz', 'is_holiday', 'start_date', 'start_hour', 'duration_hours', 'title', 'title_clean']]\n",
    ")\n",
    "\n",
    "df_clean.sample(5)"
   ]
  },
  {
   "cell_type": "markdown",
   "metadata": {},
   "source": [
    "# IMDB"
   ]
  },
  {
   "cell_type": "code",
   "execution_count": 9,
   "metadata": {},
   "outputs": [],
   "source": [
    "ia = IMDb()"
   ]
  },
  {
   "cell_type": "code",
   "execution_count": 10,
   "metadata": {},
   "outputs": [],
   "source": [
    "def get_movie_info(movie_title):\n",
    "    '''\n",
    "    Returns a dict with movie metadata based on Movie title\n",
    "    '''\n",
    "    search_result = ia.search_movie(movie_title)\n",
    "    \n",
    "    if search_result:\n",
    "        movie_id = search_result[0].getID()\n",
    "        movie = ia.get_movie(movie_id)\n",
    "\n",
    "        return {\n",
    "            'netflix_title': movie_title,\n",
    "            'imdb_title'   : movie['title'] if 'title' in movie else None,\n",
    "            'year'         : movie['year'] if 'year' in movie else None,\n",
    "            'genre'        : movie['genres'] if 'genres' in movie else None,\n",
    "            'country'      : movie['countries'] if 'countries' in movie else None\n",
    "        }\n",
    "    print(f'{movie_title} not found')"
   ]
  },
  {
   "cell_type": "code",
   "execution_count": 11,
   "metadata": {},
   "outputs": [],
   "source": [
    "r = get_movie_info('The One')"
   ]
  },
  {
   "cell_type": "code",
   "execution_count": 12,
   "metadata": {},
   "outputs": [
    {
     "name": "stdout",
     "output_type": "stream",
     "text": [
      "{'country': ['United Kingdom'],\n",
      " 'genre': ['Crime', 'Drama', 'Sci-Fi', 'Thriller'],\n",
      " 'imdb_title': 'The One',\n",
      " 'netflix_title': 'The One',\n",
      " 'year': 2021}\n"
     ]
    }
   ],
   "source": [
    "pprint(r)"
   ]
  },
  {
   "cell_type": "markdown",
   "metadata": {},
   "source": [
    "## Loop for all the movies"
   ]
  },
  {
   "cell_type": "code",
   "execution_count": 13,
   "metadata": {},
   "outputs": [
    {
     "name": "stdout",
     "output_type": "stream",
     "text": [
      "259 movies\n"
     ]
    }
   ],
   "source": [
    "title_list = df_clean['title_clean'].unique().tolist()\n",
    "print(f'{len(title_list)} movies')"
   ]
  },
  {
   "cell_type": "code",
   "execution_count": 14,
   "metadata": {},
   "outputs": [
    {
     "name": "stdout",
     "output_type": "stream",
     "text": [
      "Wall time: 8.1 ms\n"
     ]
    }
   ],
   "source": [
    "%%time\n",
    "\n",
    "if reload_imdb:\n",
    "\n",
    "    imdb_list = []\n",
    "\n",
    "    for i in trange(len(title_list)):\n",
    "        title = title_list[i]\n",
    "        print(title)\n",
    "        r = get_movie_info(title)\n",
    "        \n",
    "        if r:\n",
    "            imdb_list.append(r)\n",
    "        \n",
    "    f = open(filename, 'wb')\n",
    "    pickle.dump(imdb_list, f)\n",
    "    f.close()\n",
    "\n",
    "else:\n",
    "    imdb_list = pd.read_pickle(filename)"
   ]
  },
  {
   "cell_type": "markdown",
   "metadata": {},
   "source": [
    "# Merge"
   ]
  },
  {
   "cell_type": "code",
   "execution_count": 15,
   "metadata": {},
   "outputs": [
    {
     "data": {
      "text/html": [
       "<div>\n",
       "<style scoped>\n",
       "    .dataframe tbody tr th:only-of-type {\n",
       "        vertical-align: middle;\n",
       "    }\n",
       "\n",
       "    .dataframe tbody tr th {\n",
       "        vertical-align: top;\n",
       "    }\n",
       "\n",
       "    .dataframe thead th {\n",
       "        text-align: right;\n",
       "    }\n",
       "</style>\n",
       "<table border=\"1\" class=\"dataframe\">\n",
       "  <thead>\n",
       "    <tr style=\"text-align: right;\">\n",
       "      <th></th>\n",
       "      <th>netflix_title</th>\n",
       "      <th>imdb_title</th>\n",
       "      <th>year</th>\n",
       "      <th>genre</th>\n",
       "      <th>country</th>\n",
       "    </tr>\n",
       "  </thead>\n",
       "  <tbody>\n",
       "    <tr>\n",
       "      <th>137</th>\n",
       "      <td>Trinkets</td>\n",
       "      <td>Trinkets</td>\n",
       "      <td>2019</td>\n",
       "      <td>[Comedy, Crime, Drama]</td>\n",
       "      <td>[United States]</td>\n",
       "    </tr>\n",
       "    <tr>\n",
       "      <th>220</th>\n",
       "      <td>Rango</td>\n",
       "      <td>Rango</td>\n",
       "      <td>2011</td>\n",
       "      <td>[Animation, Adventure, Comedy, Family, Western]</td>\n",
       "      <td>[United States, Canada]</td>\n",
       "    </tr>\n",
       "    <tr>\n",
       "      <th>75</th>\n",
       "      <td>The Terminal</td>\n",
       "      <td>The Terminal</td>\n",
       "      <td>2004</td>\n",
       "      <td>[Comedy, Drama, Romance]</td>\n",
       "      <td>[United States]</td>\n",
       "    </tr>\n",
       "  </tbody>\n",
       "</table>\n",
       "</div>"
      ],
      "text/plain": [
       "    netflix_title    imdb_title  year  \\\n",
       "137      Trinkets      Trinkets  2019   \n",
       "220         Rango         Rango  2011   \n",
       "75   The Terminal  The Terminal  2004   \n",
       "\n",
       "                                               genre                  country  \n",
       "137                           [Comedy, Crime, Drama]          [United States]  \n",
       "220  [Animation, Adventure, Comedy, Family, Western]  [United States, Canada]  \n",
       "75                          [Comedy, Drama, Romance]          [United States]  "
      ]
     },
     "execution_count": 15,
     "metadata": {},
     "output_type": "execute_result"
    }
   ],
   "source": [
    "df_imdb = pd.DataFrame(imdb_list)\n",
    "df_imdb.sample(3)"
   ]
  },
  {
   "cell_type": "code",
   "execution_count": 16,
   "metadata": {},
   "outputs": [
    {
     "data": {
      "text/html": [
       "<div>\n",
       "<style scoped>\n",
       "    .dataframe tbody tr th:only-of-type {\n",
       "        vertical-align: middle;\n",
       "    }\n",
       "\n",
       "    .dataframe tbody tr th {\n",
       "        vertical-align: top;\n",
       "    }\n",
       "\n",
       "    .dataframe thead th {\n",
       "        text-align: right;\n",
       "    }\n",
       "</style>\n",
       "<table border=\"1\" class=\"dataframe\">\n",
       "  <thead>\n",
       "    <tr style=\"text-align: right;\">\n",
       "      <th></th>\n",
       "      <th>profile_name</th>\n",
       "      <th>start_time_kz</th>\n",
       "      <th>is_holiday</th>\n",
       "      <th>start_date</th>\n",
       "      <th>start_hour</th>\n",
       "      <th>duration_hours</th>\n",
       "      <th>title</th>\n",
       "      <th>title_clean</th>\n",
       "      <th>netflix_title</th>\n",
       "      <th>imdb_title</th>\n",
       "      <th>year</th>\n",
       "      <th>genre</th>\n",
       "      <th>country</th>\n",
       "    </tr>\n",
       "  </thead>\n",
       "  <tbody>\n",
       "    <tr>\n",
       "      <th>478</th>\n",
       "      <td>Family</td>\n",
       "      <td>2020-10-11 19:33:19</td>\n",
       "      <td>True</td>\n",
       "      <td>2020-10-11</td>\n",
       "      <td>19</td>\n",
       "      <td>0.866667</td>\n",
       "      <td>The Haunting of Bly Manor: Season 1: The Two F...</td>\n",
       "      <td>The Haunting of Bly Manor</td>\n",
       "      <td>The Haunting of Bly Manor</td>\n",
       "      <td>The Haunting of Bly Manor</td>\n",
       "      <td>2020.0</td>\n",
       "      <td>[Drama, Horror, Mystery, Thriller]</td>\n",
       "      <td>[United States]</td>\n",
       "    </tr>\n",
       "    <tr>\n",
       "      <th>325</th>\n",
       "      <td>Home</td>\n",
       "      <td>2019-09-05 16:55:08</td>\n",
       "      <td>False</td>\n",
       "      <td>2019-09-05</td>\n",
       "      <td>16</td>\n",
       "      <td>0.666667</td>\n",
       "      <td>13 Reasons Why: Season 1: Tape 1, Side A (Epis...</td>\n",
       "      <td>13 Reasons Why</td>\n",
       "      <td>13 Reasons Why</td>\n",
       "      <td>13 Reasons Why</td>\n",
       "      <td>2017.0</td>\n",
       "      <td>[Drama, Mystery, Thriller]</td>\n",
       "      <td>[United States]</td>\n",
       "    </tr>\n",
       "    <tr>\n",
       "      <th>342</th>\n",
       "      <td>Home</td>\n",
       "      <td>2019-08-25 09:13:35</td>\n",
       "      <td>True</td>\n",
       "      <td>2019-08-25</td>\n",
       "      <td>9</td>\n",
       "      <td>0.000000</td>\n",
       "      <td>RuPaul's Drag Race: Season 1: Absolut Drag Bal...</td>\n",
       "      <td>RuPaul's Drag Race</td>\n",
       "      <td>RuPaul's Drag Race</td>\n",
       "      <td>RuPaul's Drag Race</td>\n",
       "      <td>2009.0</td>\n",
       "      <td>[Game-Show, Reality-TV]</td>\n",
       "      <td>[United States]</td>\n",
       "    </tr>\n",
       "  </tbody>\n",
       "</table>\n",
       "</div>"
      ],
      "text/plain": [
       "    profile_name       start_time_kz  is_holiday  start_date  start_hour  \\\n",
       "478       Family 2020-10-11 19:33:19        True  2020-10-11          19   \n",
       "325         Home 2019-09-05 16:55:08       False  2019-09-05          16   \n",
       "342         Home 2019-08-25 09:13:35        True  2019-08-25           9   \n",
       "\n",
       "     duration_hours                                              title  \\\n",
       "478        0.866667  The Haunting of Bly Manor: Season 1: The Two F...   \n",
       "325        0.666667  13 Reasons Why: Season 1: Tape 1, Side A (Epis...   \n",
       "342        0.000000  RuPaul's Drag Race: Season 1: Absolut Drag Bal...   \n",
       "\n",
       "                   title_clean              netflix_title  \\\n",
       "478  The Haunting of Bly Manor  The Haunting of Bly Manor   \n",
       "325             13 Reasons Why             13 Reasons Why   \n",
       "342         RuPaul's Drag Race         RuPaul's Drag Race   \n",
       "\n",
       "                    imdb_title    year                               genre  \\\n",
       "478  The Haunting of Bly Manor  2020.0  [Drama, Horror, Mystery, Thriller]   \n",
       "325             13 Reasons Why  2017.0          [Drama, Mystery, Thriller]   \n",
       "342         RuPaul's Drag Race  2009.0             [Game-Show, Reality-TV]   \n",
       "\n",
       "             country  \n",
       "478  [United States]  \n",
       "325  [United States]  \n",
       "342  [United States]  "
      ]
     },
     "execution_count": 16,
     "metadata": {},
     "output_type": "execute_result"
    }
   ],
   "source": [
    "df_merged = (\n",
    "    df_clean\n",
    "    .merge(\n",
    "        df_imdb,\n",
    "        how='left',\n",
    "        left_on='title_clean',\n",
    "        right_on='netflix_title'\n",
    "    )\n",
    ")\n",
    "\n",
    "df_merged.sample(3)"
   ]
  },
  {
   "cell_type": "markdown",
   "metadata": {},
   "source": [
    "# Analysis"
   ]
  },
  {
   "cell_type": "code",
   "execution_count": 17,
   "metadata": {},
   "outputs": [],
   "source": [
    "profile_names = df_merged.profile_name.unique()\n",
    "\n",
    "chosen_palette = 'colorblind'\n",
    "colors = sns.color_palette(chosen_palette)\n",
    "sns.set_palette(chosen_palette)"
   ]
  },
  {
   "cell_type": "code",
   "execution_count": 18,
   "metadata": {},
   "outputs": [],
   "source": [
    "def make_summary(df):\n",
    "    return (\n",
    "        df\n",
    "        .rename(\n",
    "            columns={\n",
    "                'profile_name': 'Profile',\n",
    "            }\n",
    "        )\n",
    "        .groupby('Profile')\n",
    "        .agg(\n",
    "            sessions = ('start_time_kz', 'count'),\n",
    "            freq_hour = ('start_hour', pd.Series.mode),\n",
    "            total_duration = ('duration_hours', 'sum'),\n",
    "            days = ('start_date', 'nunique')\n",
    "        )\n",
    "        .assign(\n",
    "            hours_per_day = lambda x: x['total_duration'] / x['days']\n",
    "        )\n",
    "        .rename(\n",
    "            columns={\n",
    "                'sessions': 'Sessions',\n",
    "                'freq_hour': 'Most Frequent Hour',\n",
    "                'total_duration': 'Total Hours',\n",
    "                'days': 'Days',\n",
    "                'hours_per_day': 'Hours per Day'\n",
    "            }\n",
    "        )\n",
    "        .style.format({\n",
    "            'Total Hours': '{:.0f}',\n",
    "            'Hours per Day': '{:.2f}'\n",
    "        })\n",
    "    )\n",
    "\n",
    "def make_top(df, column, top_size=5):\n",
    "    df_top_5 = (\n",
    "        df\n",
    "        .explode(column)\n",
    "        .groupby(['profile_name', column])\n",
    "        .agg(\n",
    "            n_movies = ('title_clean', 'nunique')\n",
    "        )\n",
    "        .sort_values(by=['profile_name', 'n_movies'], ascending=[True, False])\n",
    "        .reset_index()\n",
    "        .groupby('profile_name')\n",
    "        .head(top_size)\n",
    "        .rename(columns={'n_movies': '# Movies'})\n",
    "    )   \n",
    "\n",
    "    for i in range(len(profile_names)):\n",
    "        profile_name = profile_names[i]\n",
    "        \n",
    "        plt.figure(figsize=(7, 4))\n",
    "\n",
    "        sns.barplot(\n",
    "            data=df_top_5.loc[lambda x: x['profile_name'] == profile_name], \n",
    "            x=column, \n",
    "            y='# Movies',  \n",
    "            color=colors[i],\n",
    "            saturation=1\n",
    "        )\n",
    "        plt.title(f\"{profile_name}\")\n",
    "        plt.legend([],[], frameon=False)\n",
    "        plt.ylim(0, np.ceil(df_top_5['# Movies'].max() / 10) * 10)\n",
    "        plt.xlabel('')\n",
    "        \n",
    "        for spine in plt.gca().spines.values():\n",
    "            spine.set_visible(False)\n",
    "            \n",
    "        plt.savefig(f'{column}_{profile_name}.png', dpi=200)\n",
    "        plt.show()\n",
    "        \n",
    "def analyze_hours(df, y_lim):\n",
    "    \n",
    "    for is_holiday in [False, True]: \n",
    "    \n",
    "        titles = {True: 'Weekend', False: 'Workdays'}\n",
    "        \n",
    "        plt.figure(figsize=(7, 4))\n",
    "\n",
    "        sns.kdeplot(\n",
    "            data=df.loc[lambda x: x['is_holiday'] == is_holiday], \n",
    "            x='start_hour', \n",
    "            hue='profile_name'\n",
    "        )\n",
    "\n",
    "        plt.title(f\"{titles[is_holiday]}\")\n",
    "        plt.legend([],[], frameon=False)\n",
    "        plt.xlabel('Start Hour')\n",
    "        plt.grid(b=False, which='both', axis='x')\n",
    "        plt.ylim(0, y_lim)\n",
    "        \n",
    "        for spine in plt.gca().spines.values():\n",
    "            spine.set_visible(False)\n",
    "        \n",
    "        plt.savefig(f'hours_{titles[is_holiday]}.png', dpi=200)\n",
    "        plt.show()"
   ]
  },
  {
   "cell_type": "markdown",
   "metadata": {},
   "source": [
    "## Summary statistics"
   ]
  },
  {
   "cell_type": "code",
   "execution_count": 19,
   "metadata": {},
   "outputs": [
    {
     "data": {
      "text/html": [
       "<style  type=\"text/css\" >\n",
       "</style><table id=\"T_497af72e_b53f_11eb_9d00_50eb71577262\" ><thead>    <tr>        <th class=\"blank level0\" ></th>        <th class=\"col_heading level0 col0\" >Sessions</th>        <th class=\"col_heading level0 col1\" >Most Frequent Hour</th>        <th class=\"col_heading level0 col2\" >Total Hours</th>        <th class=\"col_heading level0 col3\" >Days</th>        <th class=\"col_heading level0 col4\" >Hours per Day</th>    </tr>    <tr>        <th class=\"index_name level0\" >Profile</th>        <th class=\"blank\" ></th>        <th class=\"blank\" ></th>        <th class=\"blank\" ></th>        <th class=\"blank\" ></th>        <th class=\"blank\" ></th>    </tr></thead><tbody>\n",
       "                <tr>\n",
       "                        <th id=\"T_497af72e_b53f_11eb_9d00_50eb71577262level0_row0\" class=\"row_heading level0 row0\" >Family</th>\n",
       "                        <td id=\"T_497af72e_b53f_11eb_9d00_50eb71577262row0_col0\" class=\"data row0 col0\" >515</td>\n",
       "                        <td id=\"T_497af72e_b53f_11eb_9d00_50eb71577262row0_col1\" class=\"data row0 col1\" >20</td>\n",
       "                        <td id=\"T_497af72e_b53f_11eb_9d00_50eb71577262row0_col2\" class=\"data row0 col2\" >212</td>\n",
       "                        <td id=\"T_497af72e_b53f_11eb_9d00_50eb71577262row0_col3\" class=\"data row0 col3\" >236</td>\n",
       "                        <td id=\"T_497af72e_b53f_11eb_9d00_50eb71577262row0_col4\" class=\"data row0 col4\" >0.90</td>\n",
       "            </tr>\n",
       "            <tr>\n",
       "                        <th id=\"T_497af72e_b53f_11eb_9d00_50eb71577262level0_row1\" class=\"row_heading level0 row1\" >Home</th>\n",
       "                        <td id=\"T_497af72e_b53f_11eb_9d00_50eb71577262row1_col0\" class=\"data row1 col0\" >413</td>\n",
       "                        <td id=\"T_497af72e_b53f_11eb_9d00_50eb71577262row1_col1\" class=\"data row1 col1\" >21</td>\n",
       "                        <td id=\"T_497af72e_b53f_11eb_9d00_50eb71577262row1_col2\" class=\"data row1 col2\" >184</td>\n",
       "                        <td id=\"T_497af72e_b53f_11eb_9d00_50eb71577262row1_col3\" class=\"data row1 col3\" >122</td>\n",
       "                        <td id=\"T_497af72e_b53f_11eb_9d00_50eb71577262row1_col4\" class=\"data row1 col4\" >1.51</td>\n",
       "            </tr>\n",
       "    </tbody></table>"
      ],
      "text/plain": [
       "<pandas.io.formats.style.Styler at 0x286726d44c8>"
      ]
     },
     "execution_count": 19,
     "metadata": {},
     "output_type": "execute_result"
    }
   ],
   "source": [
    "make_summary(df_merged)"
   ]
  },
  {
   "cell_type": "markdown",
   "metadata": {},
   "source": [
    "## Genres"
   ]
  },
  {
   "cell_type": "code",
   "execution_count": 20,
   "metadata": {},
   "outputs": [
    {
     "data": {
      "image/png": "[encoded data removed]",
      "text/plain": [
       "<Figure size 504x288 with 1 Axes>"
      ]
     },
     "metadata": {},
     "output_type": "display_data"
    },
    {
     "data": {
      "image/png": "[encoded data removed]",
      "text/plain": [
       "<Figure size 504x288 with 1 Axes>"
      ]
     },
     "metadata": {},
     "output_type": "display_data"
    }
   ],
   "source": [
    "colname = 'genre'\n",
    "make_top(df_merged, colname)"
   ]
  },
  {
   "cell_type": "markdown",
   "metadata": {},
   "source": [
    "## Countries"
   ]
  },
  {
   "cell_type": "code",
   "execution_count": 21,
   "metadata": {},
   "outputs": [
    {
     "data": {
      "image/png": "[encoded data removed]",
      "text/plain": [
       "<Figure size 504x288 with 1 Axes>"
      ]
     },
     "metadata": {},
     "output_type": "display_data"
    },
    {
     "data": {
      "image/png": "[encoded data removed]",
      "text/plain": [
       "<Figure size 504x288 with 1 Axes>"
      ]
     },
     "metadata": {},
     "output_type": "display_data"
    }
   ],
   "source": [
    "colname = 'country'\n",
    "make_top(df_merged, colname)"
   ]
  },
  {
   "cell_type": "markdown",
   "metadata": {},
   "source": [
    "## Hours"
   ]
  },
  {
   "cell_type": "code",
   "execution_count": 22,
   "metadata": {},
   "outputs": [
    {
     "data": {
      "image/png": "[encoded data removed]",
      "text/plain": [
       "<Figure size 504x288 with 1 Axes>"
      ]
     },
     "metadata": {},
     "output_type": "display_data"
    },
    {
     "data": {
      "image/png": "[encoded data removed]",
      "text/plain": [
       "<Figure size 504x288 with 1 Axes>"
      ]
     },
     "metadata": {},
     "output_type": "display_data"
    }
   ],
   "source": [
    "analyze_hours(df_merged, y_lim=0.06)"
   ]
  }
 ],
 "metadata": {
  "hide_input": false,
  "kernelspec": {
   "display_name": "Python 3",
   "language": "python",
   "name": "python3"
  },
  "language_info": {
   "codemirror_mode": {
    "name": "ipython",
    "version": 3
   },
   "file_extension": ".py",
   "mimetype": "text/x-python",
   "name": "python",
   "nbconvert_exporter": "python",
   "pygments_lexer": "ipython3",
   "version": "3.7.4"
  },
  "toc": {
   "base_numbering": 1,
   "nav_menu": {},
   "number_sections": true,
   "sideBar": true,
   "skip_h1_title": false,
   "title_cell": "Table of Contents",
   "title_sidebar": "Contents",
   "toc_cell": false,
   "toc_position": {},
   "toc_section_display": true,
   "toc_window_display": true
  }
 },
 "nbformat": 4,
 "nbformat_minor": 4
}
